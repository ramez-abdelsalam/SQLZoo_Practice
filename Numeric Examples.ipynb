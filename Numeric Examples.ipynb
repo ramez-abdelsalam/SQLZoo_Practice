{
 "cells": [
  {
   "cell_type": "markdown",
   "id": "73b61c7c-e78b-4984-93b3-0da1446ad890",
   "metadata": {},
   "source": [
    "## SQLZoo Numeric Examples Practice Solutions."
   ]
  },
  {
   "cell_type": "code",
   "execution_count": null,
   "id": "4eb45077-aea9-460f-a5c3-f82ce03f8317",
   "metadata": {},
   "outputs": [],
   "source": []
  },
  {
   "cell_type": "markdown",
   "id": "edf1ce27-63e0-4c5c-a9dd-ba3376bb8612",
   "metadata": {},
   "source": [
    "**1-**\n",
    "* The example shows the number who responded for:\n",
    "* question 1\n",
    "* at 'Edinburgh Napier University'\n",
    "* studying '(8) Computer Science'\n",
    "* **Show the the percentage who STRONGLY AGREE**."
   ]
  },
  {
   "cell_type": "code",
   "execution_count": null,
   "id": "f14a6377-0882-4e0a-8ac8-6d1f0ac23413",
   "metadata": {},
   "outputs": [],
   "source": [
    "\n",
    "SELECT A_STRONGLY_AGREE\n",
    "    FROM nss\n",
    " WHERE question='Q01'\n",
    "    AND institution='Edinburgh Napier University'\n",
    "    AND subject='(8) Computer Science'\n",
    ";\n",
    "    "
   ]
  },
  {
   "cell_type": "markdown",
   "id": "0d994d94-234b-4ee6-9ec4-3d5aa935deed",
   "metadata": {},
   "source": [
    "**2-**\n",
    "* **Show the institution and subject where the score is at least 100 for question 15**."
   ]
  },
  {
   "cell_type": "code",
   "execution_count": null,
   "id": "52d9b80c-42aa-434a-a56d-73dd2e142375",
   "metadata": {},
   "outputs": [],
   "source": [
    "\n",
    "SELECT institution, subject\n",
    "    FROM nss\n",
    " WHERE question='Q15'\n",
    "    AND score >= 100\n",
    ";\n",
    "    "
   ]
  },
  {
   "cell_type": "markdown",
   "id": "6e76ec77-8437-4350-84be-ea670f8b6081",
   "metadata": {},
   "source": [
    "**3-**\n",
    "* **Show the institution and score where the score for '(8) Computer Science' is less than 50 for question 'Q15'**."
   ]
  },
  {
   "cell_type": "code",
   "execution_count": null,
   "id": "ae7129b7-6d04-454b-823b-9c0cf0d2e0e4",
   "metadata": {},
   "outputs": [],
   "source": [
    "\n",
    "SELECT institution,score\n",
    "  FROM nss\n",
    " WHERE question='Q15'\n",
    "   AND score < 50\n",
    "   AND subject='(8) Computer Science'\n",
    " ;\n"
   ]
  },
  {
   "cell_type": "markdown",
   "id": "769f1520-5fad-4499-a8fd-91a09e7b0166",
   "metadata": {},
   "source": [
    "**4-**\n",
    "* **Show the subject and total number of students who responded to question 22 for each of the subjects '(8) Computer Science' and '(H) Creative Arts and Design'**.\n",
    "* HINT\n",
    "* You will need to use SUM over the response column and GROUP BY **subject**."
   ]
  },
  {
   "cell_type": "code",
   "execution_count": null,
   "id": "a4d0068b-4119-49cf-8bb4-8089243f270d",
   "metadata": {},
   "outputs": [],
   "source": [
    "\n",
    "SELECT subject, SUM(response) AS response_count\n",
    "  FROM nss\n",
    " WHERE question='Q22'\n",
    "   AND subject IN ('(8) Computer Science', '(H) Creative Arts and Design')\n",
    " GROUP BY subject\n",
    ";\n"
   ]
  },
  {
   "cell_type": "markdown",
   "id": "4233802d-cea2-467c-b5e0-5b75b6156313",
   "metadata": {},
   "source": [
    "**5-**\n",
    "* **Show the subject and total number of students who A_STRONGLY_AGREE to question 22 for each of the subjects '(8) Computer Science' and '(H) Creative Arts and Design'**.\n",
    "* HINT\n",
    "* The A_STRONGLY_AGREE column is a percentage. To work out the total number of students who strongly agree you must multiply this percentage by the number who responded (**response**) and divide by 100 - take the SUM of that."
   ]
  },
  {
   "cell_type": "code",
   "execution_count": null,
   "id": "bcadcf51-1d27-48f0-9ea0-6edda890591e",
   "metadata": {},
   "outputs": [],
   "source": [
    "\n",
    "SELECT subject, SUM(response*A_STRONGLY_AGREE/100) as strong_agree_count\n",
    "  FROM nss\n",
    " WHERE question='Q22'\n",
    "   AND subject IN ('(8) Computer Science', '(H) Creative Arts and Design')\n",
    " GROUP BY subject\n",
    ";\n",
    "    "
   ]
  },
  {
   "cell_type": "markdown",
   "id": "17561ad0-23b1-4547-b491-0632850b8271",
   "metadata": {},
   "source": [
    "**6-**\n",
    "* **Show the percentage of students who A_STRONGLY_AGREE to question 22 for the subject '(8) Computer Science' show the same figure for the subject '(H) Creative Arts and Design'**.\n",
    "* Use the **ROUND** function to show the percentage without decimal places."
   ]
  },
  {
   "cell_type": "code",
   "execution_count": null,
   "id": "a0f172c5-7dcf-4c6d-8142-c21ad802a8b0",
   "metadata": {},
   "outputs": [],
   "source": [
    "\n",
    "SELECT subject, \n",
    "ROUND(SUM(response*A_STRONGLY_AGREE/100)/sum(response)*100,0) AS percentage\n",
    "   FROM nss\n",
    " WHERE question = 'Q22'\n",
    "   AND subject IN ('(8) Computer Science', '(H) Creative Arts and Design')\n",
    " GROUP BY subject\n",
    ";\n",
    "    "
   ]
  },
  {
   "cell_type": "markdown",
   "id": "9e02bef2-73bf-43f1-a386-d196870195f7",
   "metadata": {},
   "source": [
    "**7-**\n",
    "* **Show the average scores for question 'Q22' for each institution that include 'Manchester' in the name**.\n",
    "* The column **score** is a percentage - you must use the method outlined above to multiply the percentage by the **response** and divide by the total response. Give your answer rounded to the nearest whole number"
   ]
  },
  {
   "cell_type": "code",
   "execution_count": null,
   "id": "5a963261-10cb-4efe-ba75-b7c21fd0c5ce",
   "metadata": {},
   "outputs": [],
   "source": [
    "\n",
    "SELECT institution,ROUND(SUM(score*response)/SUM(response)) AS avg_score\n",
    "  FROM nss\n",
    " WHERE question='Q22'\n",
    "   AND (institution LIKE '%Manchester%')\n",
    "GROUP BY institution\n",
    ";\n"
   ]
  },
  {
   "cell_type": "markdown",
   "id": "c8c89374-22b0-4117-959c-af13665bb67b",
   "metadata": {},
   "source": [
    "**8-**\n",
    "* **Show the institution, the total sample size and the number of computing students for institutions in Manchester for 'Q01'**."
   ]
  },
  {
   "cell_type": "code",
   "execution_count": null,
   "id": "2305afb5-2c1f-413f-b569-8b128ce71a28",
   "metadata": {},
   "outputs": [],
   "source": [
    "\n",
    "SELECT institution,SUM(sample) AS total_sample, \n",
    "SUM(IF(subject = '(8) Computer Science', sample, 0)) AS comp_students\n",
    "  FROM nss\n",
    " WHERE question='Q01'\n",
    "   AND institution LIKE '%Manchester%'\n",
    "GROUP BY institution\n",
    ";\n"
   ]
  },
  {
   "cell_type": "code",
   "execution_count": null,
   "id": "3ff8ce09-0b09-41a4-90dc-9138421ac928",
   "metadata": {},
   "outputs": [],
   "source": []
  }
 ],
 "metadata": {
  "kernelspec": {
   "display_name": "Python 3 (ipykernel)",
   "language": "python",
   "name": "python3"
  },
  "language_info": {
   "codemirror_mode": {
    "name": "ipython",
    "version": 3
   },
   "file_extension": ".py",
   "mimetype": "text/x-python",
   "name": "python",
   "nbconvert_exporter": "python",
   "pygments_lexer": "ipython3",
   "version": "3.11.5"
  }
 },
 "nbformat": 4,
 "nbformat_minor": 5
}
