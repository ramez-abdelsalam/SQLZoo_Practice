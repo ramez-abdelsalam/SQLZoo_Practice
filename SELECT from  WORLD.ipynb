{
 "cells": [
  {
   "cell_type": "markdown",
   "id": "73b61c7c-e78b-4984-93b3-0da1446ad890",
   "metadata": {},
   "source": [
    "## SQLZoo SELECT from WORLD Practice Solutions."
   ]
  },
  {
   "cell_type": "code",
   "execution_count": null,
   "id": "4eb45077-aea9-460f-a5c3-f82ce03f8317",
   "metadata": {},
   "outputs": [],
   "source": []
  },
  {
   "cell_type": "markdown",
   "id": "0d994d94-234b-4ee6-9ec4-3d5aa935deed",
   "metadata": {},
   "source": [
    "**2-**\n",
    "* **Show the name for the countries that have a population of at least 200 million. 200 million is 200000000, there are eight zeros**."
   ]
  },
  {
   "cell_type": "code",
   "execution_count": null,
   "id": "52d9b80c-42aa-434a-a56d-73dd2e142375",
   "metadata": {},
   "outputs": [],
   "source": [
    "\n",
    "SELECT name FROM world\n",
    "WHERE population >= 200000000;\n",
    "    "
   ]
  },
  {
   "cell_type": "markdown",
   "id": "6e76ec77-8437-4350-84be-ea670f8b6081",
   "metadata": {},
   "source": [
    "**3-**\n",
    "* **Give the name and the per capita GDP for those countries with a population of at least 200 million**.\n",
    "* per capita GDP is the GDP divided by the population GDP/population"
   ]
  },
  {
   "cell_type": "code",
   "execution_count": null,
   "id": "ae7129b7-6d04-454b-823b-9c0cf0d2e0e4",
   "metadata": {},
   "outputs": [],
   "source": [
    "\n",
    "SELECT name, gdp/population as per_capita_gdp\n",
    "FROM world\n",
    "WHERE population >= 200000000;\n"
   ]
  },
  {
   "cell_type": "markdown",
   "id": "769f1520-5fad-4499-a8fd-91a09e7b0166",
   "metadata": {},
   "source": [
    "**4-**\n",
    "* **Show the name and population in millions for the countries of the continent 'South America'. Divide the population by 1000000 to get population in millions**."
   ]
  },
  {
   "cell_type": "code",
   "execution_count": null,
   "id": "a4d0068b-4119-49cf-8bb4-8089243f270d",
   "metadata": {},
   "outputs": [],
   "source": [
    "\n",
    "SELECT name, population/1000000 as population_mils\n",
    "FROM world\n",
    "WHERE continent = 'south america';\n"
   ]
  },
  {
   "cell_type": "markdown",
   "id": "4233802d-cea2-467c-b5e0-5b75b6156313",
   "metadata": {},
   "source": [
    "**5-**\n",
    "* **Show the name and population for France, Germany, Italy**."
   ]
  },
  {
   "cell_type": "code",
   "execution_count": null,
   "id": "bcadcf51-1d27-48f0-9ea0-6edda890591e",
   "metadata": {},
   "outputs": [],
   "source": [
    "\n",
    "select name, population\n",
    "from world\n",
    "where name in ('france', 'italy', 'germany');\n",
    "    "
   ]
  },
  {
   "cell_type": "markdown",
   "id": "17561ad0-23b1-4547-b491-0632850b8271",
   "metadata": {},
   "source": [
    "**6-**\n",
    "* **Show the countries which have a name that includes the word 'United'**."
   ]
  },
  {
   "cell_type": "code",
   "execution_count": null,
   "id": "a0f172c5-7dcf-4c6d-8142-c21ad802a8b0",
   "metadata": {},
   "outputs": [],
   "source": [
    "\n",
    "select name\n",
    "from world \n",
    "where name like '%united%';\n",
    "    "
   ]
  },
  {
   "cell_type": "markdown",
   "id": "9e02bef2-73bf-43f1-a386-d196870195f7",
   "metadata": {},
   "source": [
    "**7-**\n",
    "* Two ways to be big: A country is big if it has an area of more than 3 million sq km or it has a population of more than 250 million.\n",
    "* **Show the countries that are big by area or big by population. Show name, population and area**."
   ]
  },
  {
   "cell_type": "code",
   "execution_count": null,
   "id": "5a963261-10cb-4efe-ba75-b7c21fd0c5ce",
   "metadata": {},
   "outputs": [],
   "source": [
    "\n",
    "select name, population, area\n",
    "from world\n",
    "where area > 3000000 or population > 250000000;\n"
   ]
  },
  {
   "cell_type": "markdown",
   "id": "c8c89374-22b0-4117-959c-af13665bb67b",
   "metadata": {},
   "source": [
    "**8-**\n",
    "* **Exclusive OR (XOR). Show the countries that are big by area (more than 3 million) or big by population (more than 250 million) but not both. Show name, population and area**.\n",
    "* Australia has a big area but a small population, it should be included.\n",
    "* Indonesia has a big population but a small area, it should be included.\n",
    "* China has a big population and big area, it should be excluded.\n",
    "* United Kingdom has a small population and a small area, it should be excluded."
   ]
  },
  {
   "cell_type": "code",
   "execution_count": null,
   "id": "2305afb5-2c1f-413f-b569-8b128ce71a28",
   "metadata": {},
   "outputs": [],
   "source": [
    "\n",
    "SELECT name, population, area\n",
    "FROM world\n",
    "WHERE population > 250000000 AND NOT area > 3000000\n",
    "OR\n",
    "area > 3000000 AND NOT population > 250000000;\n"
   ]
  },
  {
   "cell_type": "markdown",
   "id": "b0a2509c-15a7-4717-a836-e3d6f56dbec3",
   "metadata": {},
   "source": [
    "**9-**\n",
    "* **Show the name and population in millions and the GDP in billions for the countries of the continent 'South America'. Use the ROUND function to show the values to two decimal places**.\n",
    "* **For Americas show population in millions and GDP in billions both to 2 decimal places**."
   ]
  },
  {
   "cell_type": "code",
   "execution_count": null,
   "id": "f492d2d4-8db2-42a8-bcbd-e6573e32ac84",
   "metadata": {},
   "outputs": [],
   "source": [
    "\n",
    "SELECT name,\n",
    "ROUND(population/1000000 ,2) as population_mil,\n",
    "ROUND(GDP/1000000000 ,2) as GDP_billions\n",
    "FROM world\n",
    "WHERE continent ='south america';\n",
    "    "
   ]
  },
  {
   "cell_type": "markdown",
   "id": "86a42ee3-b685-4e0f-ae5d-2db3a8e4d160",
   "metadata": {},
   "source": [
    "**10-**\n",
    "* **Show the name and per-capita GDP for those countries with a GDP of at least one trillion (1000000000000; that is 12 zeros). Round this value to the nearest 1000**.\n",
    "* **Show per-capita GDP for the trillion dollar countries to the nearest $1000**."
   ]
  },
  {
   "cell_type": "code",
   "execution_count": null,
   "id": "1a41bfbe-0c7d-40b8-a408-bed5f5981c18",
   "metadata": {},
   "outputs": [],
   "source": [
    "\n",
    "SELECT name,\n",
    "ROUND(gdp/population, -3) as gdp_thousands\n",
    "FROM world\n",
    "WHERE gdp > 1000000000000;\n",
    "    "
   ]
  },
  {
   "cell_type": "markdown",
   "id": "16944e37-b5fc-4b00-a0de-2ba475d35110",
   "metadata": {},
   "source": [
    "**11-**\n",
    "* Greece has capital Athens.\n",
    "* Each of the strings 'Greece', and 'Athens' has 6 characters.* **Find the country where the name is the capital city.\n",
    "* **Show the name and capital where the name and the capital have the same number of characters**.\n",
    "* You can use the LENGTH function to find the number of characters in a string"
   ]
  },
  {
   "cell_type": "code",
   "execution_count": null,
   "id": "6c9df3fc-02a8-4de1-b24c-72e6b74a7731",
   "metadata": {},
   "outputs": [],
   "source": [
    "\n",
    "SELECT name, capital\n",
    "FROM world\n",
    "WHERE LENGTH(name) = LENGTH(capital);\n"
   ]
  },
  {
   "cell_type": "markdown",
   "id": "011a2e03-be3e-4e4c-9a99-2790b7defb8b",
   "metadata": {},
   "source": [
    "**12-**\n",
    "* The capital of Sweden is Stockholm. Both words start with the letter 'S'.\n",
    "* **Show the name and the capital where the first letters of each match. Don't include countries where the name and the capital are the same word**.\n",
    "* You can use the function LEFT to isolate the first character.\n",
    "* You can use <> as the NOT EQUALS operator."
   ]
  },
  {
   "cell_type": "code",
   "execution_count": null,
   "id": "6c9bbc24-cef1-4c8b-854d-04542fba1124",
   "metadata": {},
   "outputs": [],
   "source": [
    "\n",
    "SELECT name, capital\n",
    "FROM world\n",
    "WHERE LEFT(name,1) = LEFT(capital,1) \n",
    "AND name <> capital;\n"
   ]
  },
  {
   "cell_type": "markdown",
   "id": "147c9c01-fdf0-4d04-9208-60c811111649",
   "metadata": {},
   "source": [
    "**13-**\n",
    "* Equatorial Guinea and Dominican Republic have all of the vowels (a e i o u) in the name. They don't count because they have more than one word in the name.\n",
    "* **Find the country that has all the vowels and no spaces in its name**.\n",
    "* You can use the phrase name NOT LIKE '%a%' to exclude characters from your results.\n",
    "* The query shown misses countries like Bahamas and Belarus because they contain at least one 'a'"
   ]
  },
  {
   "cell_type": "code",
   "execution_count": null,
   "id": "ea565dfb-2977-4a62-9ff7-1ea7eb7e8e62",
   "metadata": {},
   "outputs": [],
   "source": [
    "\n",
    "SELECT name FROM world\n",
    "WHERE name LIKE '%a%'\n",
    "AND name LIKE '%e%'\n",
    "AND name LIKE '%i%'\n",
    "AND name LIKE '%o%'\n",
    "AND name LIKE '%u%'\n",
    "AND name NOT LIKE '% %';\n"
   ]
  },
  {
   "cell_type": "code",
   "execution_count": null,
   "id": "3ff8ce09-0b09-41a4-90dc-9138421ac928",
   "metadata": {},
   "outputs": [],
   "source": []
  }
 ],
 "metadata": {
  "kernelspec": {
   "display_name": "Python 3 (ipykernel)",
   "language": "python",
   "name": "python3"
  },
  "language_info": {
   "codemirror_mode": {
    "name": "ipython",
    "version": 3
   },
   "file_extension": ".py",
   "mimetype": "text/x-python",
   "name": "python",
   "nbconvert_exporter": "python",
   "pygments_lexer": "ipython3",
   "version": "3.11.5"
  }
 },
 "nbformat": 4,
 "nbformat_minor": 5
}
