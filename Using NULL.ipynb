{
 "cells": [
  {
   "cell_type": "markdown",
   "id": "73b61c7c-e78b-4984-93b3-0da1446ad890",
   "metadata": {},
   "source": [
    "## SQLZoo Using Null Practice Solutions."
   ]
  },
  {
   "cell_type": "code",
   "execution_count": null,
   "id": "4eb45077-aea9-460f-a5c3-f82ce03f8317",
   "metadata": {},
   "outputs": [],
   "source": []
  },
  {
   "cell_type": "markdown",
   "id": "0d994d94-234b-4ee6-9ec4-3d5aa935deed",
   "metadata": {},
   "source": [
    "**1-**\n",
    "* **List the teachers who have NULL for their department**."
   ]
  },
  {
   "cell_type": "code",
   "execution_count": null,
   "id": "52d9b80c-42aa-434a-a56d-73dd2e142375",
   "metadata": {},
   "outputs": [],
   "source": [
    "\n",
    "SELECT name\n",
    "FROM teacher\n",
    "WHERE dept is null;\n",
    "    "
   ]
  },
  {
   "cell_type": "markdown",
   "id": "6e76ec77-8437-4350-84be-ea670f8b6081",
   "metadata": {},
   "source": [
    "**2-**\n",
    "* **Note the INNER JOIN misses the teachers with no department and the departments with no teacher**."
   ]
  },
  {
   "cell_type": "code",
   "execution_count": null,
   "id": "ae7129b7-6d04-454b-823b-9c0cf0d2e0e4",
   "metadata": {},
   "outputs": [],
   "source": [
    "\n",
    "SELECT teacher.name, dept.name\n",
    " FROM teacher JOIN dept\n",
    "           ON (teacher.dept=dept.id);\n"
   ]
  },
  {
   "cell_type": "markdown",
   "id": "769f1520-5fad-4499-a8fd-91a09e7b0166",
   "metadata": {},
   "source": [
    "**3-**\n",
    "* **Use a different JOIN so that all teachers are listed**."
   ]
  },
  {
   "cell_type": "code",
   "execution_count": null,
   "id": "a4d0068b-4119-49cf-8bb4-8089243f270d",
   "metadata": {},
   "outputs": [],
   "source": [
    "\n",
    "SELECT teacher.name, dept.name\n",
    " FROM teacher LEFT JOIN dept\n",
    "           ON (teacher.dept=dept.id)\n"
   ]
  },
  {
   "cell_type": "markdown",
   "id": "4233802d-cea2-467c-b5e0-5b75b6156313",
   "metadata": {},
   "source": [
    "**4-**\n",
    "* **Use a different JOIN so that all departments are listed**."
   ]
  },
  {
   "cell_type": "code",
   "execution_count": null,
   "id": "bcadcf51-1d27-48f0-9ea0-6edda890591e",
   "metadata": {},
   "outputs": [],
   "source": [
    "\n",
    "SELECT teacher.name, dept.name\n",
    " FROM teacher RIGHT JOIN dept\n",
    "           ON (teacher.dept=dept.id)\n",
    "    "
   ]
  },
  {
   "cell_type": "markdown",
   "id": "17561ad0-23b1-4547-b491-0632850b8271",
   "metadata": {},
   "source": [
    "**5-**\n",
    "* Use COALESCE to print the mobile number. Use the number '07986 444 2266' if there is no number given.\n",
    "* **Show teacher name and mobile number or '07986 444 2266'**."
   ]
  },
  {
   "cell_type": "code",
   "execution_count": null,
   "id": "a0f172c5-7dcf-4c6d-8142-c21ad802a8b0",
   "metadata": {},
   "outputs": [],
   "source": [
    "\n",
    "SELECT name, COALESCE(mobile, '07986 444 2266')\n",
    "FROM teacher\n",
    "    "
   ]
  },
  {
   "cell_type": "markdown",
   "id": "9e02bef2-73bf-43f1-a386-d196870195f7",
   "metadata": {},
   "source": [
    "**6-**\n",
    "* **Use the COALESCE function and a LEFT JOIN to print the teacher name and department name. Use the string 'None' where there is no department**."
   ]
  },
  {
   "cell_type": "code",
   "execution_count": null,
   "id": "5a963261-10cb-4efe-ba75-b7c21fd0c5ce",
   "metadata": {},
   "outputs": [],
   "source": [
    "\n",
    "SELECT T.name, COALESCE(D.name, 'None')\n",
    "FROM teacher T\n",
    "LEFT JOIN dept D ON T.dept = D.id;\n"
   ]
  },
  {
   "cell_type": "markdown",
   "id": "c8c89374-22b0-4117-959c-af13665bb67b",
   "metadata": {},
   "source": [
    "**7-**\n",
    "* **Use COUNT to show the number of teachers and the number of mobile phones**."
   ]
  },
  {
   "cell_type": "code",
   "execution_count": null,
   "id": "2305afb5-2c1f-413f-b569-8b128ce71a28",
   "metadata": {},
   "outputs": [],
   "source": [
    "\n",
    "SELECT COUNT(name), COUNT(mobile)\n",
    "FROM teacher;\n"
   ]
  },
  {
   "cell_type": "markdown",
   "id": "b0a2509c-15a7-4717-a836-e3d6f56dbec3",
   "metadata": {},
   "source": [
    "**8-**\n",
    "* **Use COUNT and GROUP BY dept.name to show each department and the number of staff. Use a RIGHT JOIN to ensure that the Engineering department is listed**."
   ]
  },
  {
   "cell_type": "code",
   "execution_count": null,
   "id": "f492d2d4-8db2-42a8-bcbd-e6573e32ac84",
   "metadata": {},
   "outputs": [],
   "source": [
    "\n",
    "SELECT D.name, COUNT(T.dept) AS teacher_count\n",
    "FROM dept D\n",
    "LEFT JOIN teacher T ON D.id = T.dept\n",
    "GROUP BY D.name\n",
    "ORDER BY COUNT(T.dept) DESC;\n",
    "    "
   ]
  },
  {
   "cell_type": "markdown",
   "id": "86a42ee3-b685-4e0f-ae5d-2db3a8e4d160",
   "metadata": {},
   "source": [
    "**9-**\n",
    "* **Use CASE to show the name of each teacher followed by 'Sci' if the teacher is in dept 1 or 2 and 'Art' otherwise**."
   ]
  },
  {
   "cell_type": "code",
   "execution_count": null,
   "id": "1a41bfbe-0c7d-40b8-a408-bed5f5981c18",
   "metadata": {},
   "outputs": [],
   "source": [
    "\n",
    "SELECT name,\n",
    "CASE WHEN dept IN (1,2) THEN 'Sci' ELSE 'Art' END AS dept\n",
    "FROM teacher;\n",
    "    "
   ]
  },
  {
   "cell_type": "markdown",
   "id": "16944e37-b5fc-4b00-a0de-2ba475d35110",
   "metadata": {},
   "source": [
    "**10-**\n",
    "* **Use CASE to show the name of each teacher followed by 'Sci' if the teacher is in dept 1 or 2, show 'Art' if the teacher's dept is 3 and 'None' otherwise**."
   ]
  },
  {
   "cell_type": "code",
   "execution_count": null,
   "id": "6c9df3fc-02a8-4de1-b24c-72e6b74a7731",
   "metadata": {},
   "outputs": [],
   "source": [
    "\n",
    "SELECT name,\n",
    "CASE\n",
    "   WHEN dept IN (1,2) THEN 'Sci'\n",
    "   WHEN dept = 3 THEN 'Art'\n",
    "   ELSE 'None'\n",
    "END AS dept\n",
    "FROM teacher;\n"
   ]
  },
  {
   "cell_type": "code",
   "execution_count": null,
   "id": "f7746249-7d54-45ee-bc21-34ee52b083e4",
   "metadata": {},
   "outputs": [],
   "source": []
  }
 ],
 "metadata": {
  "kernelspec": {
   "display_name": "Python 3 (ipykernel)",
   "language": "python",
   "name": "python3"
  },
  "language_info": {
   "codemirror_mode": {
    "name": "ipython",
    "version": 3
   },
   "file_extension": ".py",
   "mimetype": "text/x-python",
   "name": "python",
   "nbconvert_exporter": "python",
   "pygments_lexer": "ipython3",
   "version": "3.11.5"
  }
 },
 "nbformat": 4,
 "nbformat_minor": 5
}
