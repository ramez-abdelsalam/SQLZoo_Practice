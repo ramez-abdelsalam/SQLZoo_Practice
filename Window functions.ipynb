{
 "cells": [
  {
   "cell_type": "markdown",
   "id": "73b61c7c-e78b-4984-93b3-0da1446ad890",
   "metadata": {},
   "source": [
    "## SQLZoo Window functions Practice Solutions."
   ]
  },
  {
   "cell_type": "code",
   "execution_count": null,
   "id": "4eb45077-aea9-460f-a5c3-f82ce03f8317",
   "metadata": {},
   "outputs": [],
   "source": []
  },
  {
   "cell_type": "markdown",
   "id": "edf1ce27-63e0-4c5c-a9dd-ba3376bb8612",
   "metadata": {},
   "source": [
    "**1-**\n",
    "* **Show the lastName, party and votes for the constituency 'S14000024' in 2017**."
   ]
  },
  {
   "cell_type": "code",
   "execution_count": null,
   "id": "f14a6377-0882-4e0a-8ac8-6d1f0ac23413",
   "metadata": {},
   "outputs": [],
   "source": [
    "\n",
    "SELECT lastName, party, votes\n",
    "FROM ge\n",
    "WHERE constituency = 'S14000024' AND yr = 2017\n",
    "ORDER BY votes DESC\n",
    ";\n",
    "\n",
    "    "
   ]
  },
  {
   "cell_type": "markdown",
   "id": "0d994d94-234b-4ee6-9ec4-3d5aa935deed",
   "metadata": {},
   "source": [
    "**2-**\n",
    "* You can use the RANK function to see the order of the candidates. If you RANK using (ORDER BY votes DESC) then the candidate with the most votes has rank 1.\n",
    "* **Show the party and RANK for constituency S14000024 in 2017. List the output by party**."
   ]
  },
  {
   "cell_type": "code",
   "execution_count": null,
   "id": "52d9b80c-42aa-434a-a56d-73dd2e142375",
   "metadata": {},
   "outputs": [],
   "source": [
    "\n",
    "SELECT party, votes,\n",
    "RANK() OVER (ORDER BY votes DESC) as posn\n",
    "FROM ge\n",
    "WHERE constituency = 'S14000024' AND yr = 2017\n",
    "ORDER BY party\n",
    ";\n",
    "    "
   ]
  },
  {
   "cell_type": "markdown",
   "id": "6e76ec77-8437-4350-84be-ea670f8b6081",
   "metadata": {},
   "source": [
    "**3-**\n",
    "* The 2015 election is a different PARTITION to the 2017 election. We only care about the order of votes for each year.\n",
    "* **Use PARTITION to show the ranking of each party in S14000021 in each year. Include yr, party, votes and ranking (the party with the most votes is 1)**."
   ]
  },
  {
   "cell_type": "code",
   "execution_count": null,
   "id": "ae7129b7-6d04-454b-823b-9c0cf0d2e0e4",
   "metadata": {},
   "outputs": [],
   "source": [
    "\n",
    "SELECT yr,party, votes,\n",
    "RANK() OVER (PARTITION BY yr ORDER BY votes DESC) as posn\n",
    "FROM ge\n",
    "WHERE constituency = 'S14000021'\n",
    "ORDER BY party,yr\n",
    ";\n"
   ]
  },
  {
   "cell_type": "markdown",
   "id": "769f1520-5fad-4499-a8fd-91a09e7b0166",
   "metadata": {},
   "source": [
    "**4-**\n",
    "* Edinburgh constituencies are numbered S14000021 to S14000026.\n",
    "* **Use PARTITION BY constituency to show the ranking of each party in Edinburgh in 2017. Order your results so the winners are shown first, then ordered by constituency**."
   ]
  },
  {
   "cell_type": "code",
   "execution_count": null,
   "id": "a4d0068b-4119-49cf-8bb4-8089243f270d",
   "metadata": {},
   "outputs": [],
   "source": [
    "\n",
    "SELECT constituency,party, votes,\n",
    "RANK() OVER(PARTITION BY constituency ORDER BY votes DESC) AS posn\n",
    "FROM ge\n",
    "WHERE constituency BETWEEN 'S14000021' AND 'S14000026'\n",
    "AND yr  = 2017\n",
    "ORDER BY posn, constituency\n",
    ";\n"
   ]
  },
  {
   "cell_type": "markdown",
   "id": "4233802d-cea2-467c-b5e0-5b75b6156313",
   "metadata": {},
   "source": [
    "**5-**\n",
    "* **Show the parties that won for each Edinburgh constituency in 2017**.\n",
    "* You can use SELECT within SELECT to pick out only the winners in Edinburgh."
   ]
  },
  {
   "cell_type": "code",
   "execution_count": null,
   "id": "bcadcf51-1d27-48f0-9ea0-6edda890591e",
   "metadata": {},
   "outputs": [],
   "source": [
    "\n",
    "SELECT constituency,party \n",
    "FROM\n",
    "(\n",
    "SELECT constituency,party, votes,\n",
    "RANK() OVER(PARTITION BY constituency ORDER BY votes DESC) AS posn\n",
    "FROM ge \n",
    "WHERE constituency BETWEEN 'S14000021' AND 'S14000026'\n",
    "AND yr  = 2017\n",
    "ORDER BY posn,constituency\n",
    ")        AS new\n",
    "WHERE new.posn = 1\n",
    ";\n",
    "    "
   ]
  },
  {
   "cell_type": "markdown",
   "id": "17561ad0-23b1-4547-b491-0632850b8271",
   "metadata": {},
   "source": [
    "**6-**\n",
    "* **Show how many seats for each party in Scotland in 2017**.\n",
    "* You can use COUNT and GROUP BY to see how each party did in Scotland. Scottish constituencies start with 'S'."
   ]
  },
  {
   "cell_type": "code",
   "execution_count": null,
   "id": "a0f172c5-7dcf-4c6d-8142-c21ad802a8b0",
   "metadata": {},
   "outputs": [],
   "source": [
    "\n",
    "SELECT party, COUNT(party)\n",
    "FROM ge\n",
    "WHERE constituency LIKE 'S%'\n",
    "AND yr  = 2017\n",
    "AND votes >= ALL\n",
    "(\n",
    "    SELECT votes \n",
    "    FROM ge Y \n",
    "    WHERE ge.constituency = Y.constituency \n",
    "    AND Y.yr = 2017\n",
    ")\n",
    "GROUP BY party\n",
    ";\n",
    "    "
   ]
  },
  {
   "cell_type": "code",
   "execution_count": null,
   "id": "3ff8ce09-0b09-41a4-90dc-9138421ac928",
   "metadata": {},
   "outputs": [],
   "source": []
  }
 ],
 "metadata": {
  "kernelspec": {
   "display_name": "Python 3 (ipykernel)",
   "language": "python",
   "name": "python3"
  },
  "language_info": {
   "codemirror_mode": {
    "name": "ipython",
    "version": 3
   },
   "file_extension": ".py",
   "mimetype": "text/x-python",
   "name": "python",
   "nbconvert_exporter": "python",
   "pygments_lexer": "ipython3",
   "version": "3.11.5"
  }
 },
 "nbformat": 4,
 "nbformat_minor": 5
}
