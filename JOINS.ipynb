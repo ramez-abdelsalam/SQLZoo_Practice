{
 "cells": [
  {
   "cell_type": "markdown",
   "id": "73b61c7c-e78b-4984-93b3-0da1446ad890",
   "metadata": {},
   "source": [
    "## SQLZoo JOINS Practice Solutions."
   ]
  },
  {
   "cell_type": "code",
   "execution_count": null,
   "id": "4eb45077-aea9-460f-a5c3-f82ce03f8317",
   "metadata": {},
   "outputs": [],
   "source": []
  },
  {
   "cell_type": "markdown",
   "id": "0d994d94-234b-4ee6-9ec4-3d5aa935deed",
   "metadata": {},
   "source": [
    "**1-**\n",
    "* The first example shows the goal scored by a player with the last name 'Bender'. The * says to list all the columns in the table - a shorter way of saying matchid, teamid, player, gtime.\n",
    "* **Modify it to show the matchid and player name for all goals scored by Germany**."
   ]
  },
  {
   "cell_type": "code",
   "execution_count": null,
   "id": "52d9b80c-42aa-434a-a56d-73dd2e142375",
   "metadata": {},
   "outputs": [],
   "source": [
    "\n",
    "SELECT matchid, player\n",
    "FROM goal \n",
    "WHERE teamid = 'ger';\n",
    "    "
   ]
  },
  {
   "cell_type": "markdown",
   "id": "6e76ec77-8437-4350-84be-ea670f8b6081",
   "metadata": {},
   "source": [
    "**2-**\n",
    "* **Show id, stadium, team1, team2 for just game 1012**."
   ]
  },
  {
   "cell_type": "code",
   "execution_count": null,
   "id": "ae7129b7-6d04-454b-823b-9c0cf0d2e0e4",
   "metadata": {},
   "outputs": [],
   "source": [
    "\n",
    "SELECT id,stadium,team1,team2\n",
    "FROM game\n",
    "where id = 1012;\n"
   ]
  },
  {
   "cell_type": "markdown",
   "id": "769f1520-5fad-4499-a8fd-91a09e7b0166",
   "metadata": {},
   "source": [
    "**3-**\n",
    "* The code below shows the player (from the goal) and stadium name (from the game table) for every goal scored.\n",
    "* **Modify it to show the player, teamid, stadium and mdate for every German goal**."
   ]
  },
  {
   "cell_type": "code",
   "execution_count": null,
   "id": "a4d0068b-4119-49cf-8bb4-8089243f270d",
   "metadata": {},
   "outputs": [],
   "source": [
    "\n",
    "SELECT player,teamid, stadium, mdate\n",
    "FROM game gm\n",
    "JOIN goal gl\n",
    "ON gm.id=gl.matchid\n",
    "where teamid = 'ger'\n",
    ";\n"
   ]
  },
  {
   "cell_type": "markdown",
   "id": "4233802d-cea2-467c-b5e0-5b75b6156313",
   "metadata": {},
   "source": [
    "**4-**\n",
    "* **Show the team1, team2 and player for every goal scored by a player called Mario**."
   ]
  },
  {
   "cell_type": "code",
   "execution_count": null,
   "id": "bcadcf51-1d27-48f0-9ea0-6edda890591e",
   "metadata": {},
   "outputs": [],
   "source": [
    "\n",
    "SELECT team1, team2, player\n",
    "FROM game gm\n",
    "JOIN goal gl\n",
    "ON gm.id = gl.matchid\n",
    "WHERE player like 'mario%';\n",
    "    "
   ]
  },
  {
   "cell_type": "markdown",
   "id": "17561ad0-23b1-4547-b491-0632850b8271",
   "metadata": {},
   "source": [
    "**5-**\n",
    "* **Show player, teamid, coach, gtime for all goals scored in the first 10 minutes gtime<=10**."
   ]
  },
  {
   "cell_type": "code",
   "execution_count": null,
   "id": "a0f172c5-7dcf-4c6d-8142-c21ad802a8b0",
   "metadata": {},
   "outputs": [],
   "source": [
    "\n",
    "SELECT player, teamid, coach, gtime\n",
    "FROM goal gl\n",
    "JOIN eteam tm\n",
    "ON gl.teamid = tm.id\n",
    "WHERE gtime<=10;\n",
    "    "
   ]
  },
  {
   "cell_type": "markdown",
   "id": "9e02bef2-73bf-43f1-a386-d196870195f7",
   "metadata": {},
   "source": [
    "**6-**\n",
    "* **List the dates of the matches and the name of the team in which 'Fernando Santos' was the team1 coach**."
   ]
  },
  {
   "cell_type": "code",
   "execution_count": null,
   "id": "5a963261-10cb-4efe-ba75-b7c21fd0c5ce",
   "metadata": {},
   "outputs": [],
   "source": [
    "\n",
    "SELECT mdate, teamname\n",
    "FROM game gm\n",
    "JOIN eteam tm\n",
    "ON gm.team1 = tm.id\n",
    "WHERE coach = 'fernando santos';\n"
   ]
  },
  {
   "cell_type": "markdown",
   "id": "c8c89374-22b0-4117-959c-af13665bb67b",
   "metadata": {},
   "source": [
    "**7-**\n",
    "* **List the player for every goal scored in a game where the stadium was 'National Stadium, Warsaw'**."
   ]
  },
  {
   "cell_type": "code",
   "execution_count": null,
   "id": "2305afb5-2c1f-413f-b569-8b128ce71a28",
   "metadata": {},
   "outputs": [],
   "source": [
    "\n",
    "SELECT player\n",
    "FROM goal gl\n",
    "JOIN game gm\n",
    "ON gl.matchid = gm.id\n",
    "WHERE stadium = 'national stadium, warsaw';\n"
   ]
  },
  {
   "cell_type": "markdown",
   "id": "b0a2509c-15a7-4717-a836-e3d6f56dbec3",
   "metadata": {},
   "source": [
    "**8-**\n",
    "* The example query shows all goals scored in the Germany-Greece quarterfinal.\n",
    "* **Instead show the name of all players who scored a goal against Germany.**."
   ]
  },
  {
   "cell_type": "code",
   "execution_count": null,
   "id": "f492d2d4-8db2-42a8-bcbd-e6573e32ac84",
   "metadata": {},
   "outputs": [],
   "source": [
    "\n",
    "SELECT DISTINCT player\n",
    "FROM game\n",
    "JOIN goal ON goal.matchid = game.id\n",
    "WHERE (team1 = 'GER' OR team2 = 'GER')\n",
    "AND teamid != 'GER';\n",
    "    "
   ]
  },
  {
   "cell_type": "markdown",
   "id": "86a42ee3-b685-4e0f-ae5d-2db3a8e4d160",
   "metadata": {},
   "source": [
    "**9-**\n",
    "* **Show teamname and the total number of goals scored**."
   ]
  },
  {
   "cell_type": "code",
   "execution_count": null,
   "id": "1a41bfbe-0c7d-40b8-a408-bed5f5981c18",
   "metadata": {},
   "outputs": [],
   "source": [
    "\n",
    "SELECT teamname, count(teamid)\n",
    "FROM eteam\n",
    "JOIN goal\n",
    "ON id = teamid\n",
    "GROUP BY teamname\n",
    ";\n",
    "    "
   ]
  },
  {
   "cell_type": "markdown",
   "id": "16944e37-b5fc-4b00-a0de-2ba475d35110",
   "metadata": {},
   "source": [
    "**10-**\n",
    "* **Show the stadium and the number of goals scored in each stadium**."
   ]
  },
  {
   "cell_type": "code",
   "execution_count": null,
   "id": "6c9df3fc-02a8-4de1-b24c-72e6b74a7731",
   "metadata": {},
   "outputs": [],
   "source": [
    "\n",
    "SELECT stadium, count(player)\n",
    "FROM game\n",
    "JOIN goal\n",
    "ON id = matchid\n",
    "group by stadium;\n"
   ]
  },
  {
   "cell_type": "markdown",
   "id": "011a2e03-be3e-4e4c-9a99-2790b7defb8b",
   "metadata": {},
   "source": [
    "**11-**\n",
    "* **For every match involving 'POL', show the matchid, date and the number of goals scored**."
   ]
  },
  {
   "cell_type": "code",
   "execution_count": null,
   "id": "6c9bbc24-cef1-4c8b-854d-04542fba1124",
   "metadata": {},
   "outputs": [],
   "source": [
    "\n",
    "SELECT matchid,mdate, count(matchid)\n",
    "FROM goal JOIN game ON id = matchid \n",
    "WHERE (team1 = 'POL' OR team2 = 'POL')\n",
    "group by matchid;\n"
   ]
  },
  {
   "cell_type": "markdown",
   "id": "147c9c01-fdf0-4d04-9208-60c811111649",
   "metadata": {},
   "source": [
    "**12-**\n",
    "* **For every match where 'GER' scored, show matchid, match date and the number of goals scored by 'GER'**."
   ]
  },
  {
   "cell_type": "code",
   "execution_count": null,
   "id": "ea565dfb-2977-4a62-9ff7-1ea7eb7e8e62",
   "metadata": {},
   "outputs": [],
   "source": [
    "\n",
    "SELECT matchid, mdate, count(teamid)\n",
    "FROM game\n",
    "JOIN goal \n",
    "ON id = matchid\n",
    "where teamid = 'ger'\n",
    "GROUP BY id;\n"
   ]
  },
  {
   "cell_type": "markdown",
   "id": "aea69bdb-e480-4bb2-a497-47cefee37ceb",
   "metadata": {},
   "source": [
    "**13-**\n",
    "* **List every match with the goals scored by each team as shown. This will use \"CASE WHEN\" which has not been explained in any previous exercises**."
   ]
  },
  {
   "cell_type": "code",
   "execution_count": null,
   "id": "f4193828-2f04-411f-8695-9491f5063931",
   "metadata": {},
   "outputs": [],
   "source": [
    "\n",
    "SELECT mdate, team1, \n",
    "SUM(CASE\n",
    "    WHEN teamid = team1 THEN 1 ELSE 0\n",
    "END) as score1, team2, \n",
    "SUM(CASE\n",
    "  WHEN teamid = team2 THEN 1 ELSE 0\n",
    "END) as score2       FROM game\n",
    "LEFT JOIN goal ON id = matchid\n",
    "GROUP BY mdate, matchid, team1, team2\n",
    "ORDER BY mdate, matchid, team1, team2;\n"
   ]
  },
  {
   "cell_type": "code",
   "execution_count": null,
   "id": "f7746249-7d54-45ee-bc21-34ee52b083e4",
   "metadata": {},
   "outputs": [],
   "source": []
  }
 ],
 "metadata": {
  "kernelspec": {
   "display_name": "Python 3 (ipykernel)",
   "language": "python",
   "name": "python3"
  },
  "language_info": {
   "codemirror_mode": {
    "name": "ipython",
    "version": 3
   },
   "file_extension": ".py",
   "mimetype": "text/x-python",
   "name": "python",
   "nbconvert_exporter": "python",
   "pygments_lexer": "ipython3",
   "version": "3.11.5"
  }
 },
 "nbformat": 4,
 "nbformat_minor": 5
}
