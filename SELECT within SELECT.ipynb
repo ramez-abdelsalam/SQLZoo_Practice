{
 "cells": [
  {
   "cell_type": "markdown",
   "id": "73b61c7c-e78b-4984-93b3-0da1446ad890",
   "metadata": {},
   "source": [
    "## SQLZoo SELECT within SELECT Practice Solutions."
   ]
  },
  {
   "cell_type": "code",
   "execution_count": null,
   "id": "4eb45077-aea9-460f-a5c3-f82ce03f8317",
   "metadata": {},
   "outputs": [],
   "source": []
  },
  {
   "cell_type": "markdown",
   "id": "edf1ce27-63e0-4c5c-a9dd-ba3376bb8612",
   "metadata": {},
   "source": [
    "**1-**\n",
    "* **List each country name where the population is larger than that of 'Russia'.**."
   ]
  },
  {
   "cell_type": "code",
   "execution_count": null,
   "id": "f14a6377-0882-4e0a-8ac8-6d1f0ac23413",
   "metadata": {},
   "outputs": [],
   "source": [
    "\n",
    "SELECT name FROM world\n",
    "  WHERE population >\n",
    "     (SELECT population FROM world\n",
    "      WHERE name='russia');\n",
    "    "
   ]
  },
  {
   "cell_type": "markdown",
   "id": "0d994d94-234b-4ee6-9ec4-3d5aa935deed",
   "metadata": {},
   "source": [
    "**2-**\n",
    "* **Show the countries in Europe with a per capita GDP greater than 'United Kingdom'**."
   ]
  },
  {
   "cell_type": "code",
   "execution_count": null,
   "id": "52d9b80c-42aa-434a-a56d-73dd2e142375",
   "metadata": {},
   "outputs": [],
   "source": [
    "\n",
    "SELECT name\n",
    "FROM world\n",
    "WHERE continent = 'europe' AND (gdp/population) > (\n",
    "SELECT gdp/population as per_capita_gpd\n",
    "FROM world\n",
    "WHERE name ='United Kingdom'\n",
    ");\n",
    "    "
   ]
  },
  {
   "cell_type": "markdown",
   "id": "6e76ec77-8437-4350-84be-ea670f8b6081",
   "metadata": {},
   "source": [
    "**3-**\n",
    "* **List the name and continent of countries in the continents containing either Argentina or Australia. Order by name of the country**."
   ]
  },
  {
   "cell_type": "code",
   "execution_count": null,
   "id": "ae7129b7-6d04-454b-823b-9c0cf0d2e0e4",
   "metadata": {},
   "outputs": [],
   "source": [
    "\n",
    "SELECT name, continent\n",
    "FROM world\n",
    "WHERE continent IN (\n",
    "select continent\n",
    "FROM world\n",
    "WHERE name IN (\n",
    "'Argentina', 'Australia'\n",
    ")\n",
    ");\n"
   ]
  },
  {
   "cell_type": "markdown",
   "id": "769f1520-5fad-4499-a8fd-91a09e7b0166",
   "metadata": {},
   "source": [
    "**4-**\n",
    "* **Which country has a population that is more than United Kingdom but less than Germany? Show the name and the population**."
   ]
  },
  {
   "cell_type": "code",
   "execution_count": null,
   "id": "a4d0068b-4119-49cf-8bb4-8089243f270d",
   "metadata": {},
   "outputs": [],
   "source": [
    "\n",
    "SELECT name, population FROM world\n",
    "WHERE population > (\n",
    "SELECT population FROM world\n",
    "WHERE name = 'United Kingdom')\n",
    "AND population < (\n",
    "SELECT population FROM world\n",
    "WHERE name = 'Germany');\n"
   ]
  },
  {
   "cell_type": "markdown",
   "id": "4233802d-cea2-467c-b5e0-5b75b6156313",
   "metadata": {},
   "source": [
    "**5-**\n",
    "* Germany (population 80 million) has the largest population of the countries in Europe. Austria (population 8.5 million) has 11% of the population of Germany.\n",
    "* **Show the name and the population of each country in Europe. Show the population as a percentage of the population of Germany**."
   ]
  },
  {
   "cell_type": "code",
   "execution_count": null,
   "id": "bcadcf51-1d27-48f0-9ea0-6edda890591e",
   "metadata": {},
   "outputs": [],
   "source": [
    "\n",
    "SELECT name, CONCAT(ROUND((population* 100)/\n",
    "(SELECT population FROM world\n",
    "WHERE name = 'Germany'), 0),'%')\n",
    "FROM world\n",
    "WHERE continent = 'Europe';\n",
    "    "
   ]
  },
  {
   "cell_type": "markdown",
   "id": "17561ad0-23b1-4547-b491-0632850b8271",
   "metadata": {},
   "source": [
    "**6-**\n",
    "* **Which countries have a GDP greater than every country in Europe? [Give the name only.] (Some countries may have NULL gdp values)**."
   ]
  },
  {
   "cell_type": "code",
   "execution_count": null,
   "id": "a0f172c5-7dcf-4c6d-8142-c21ad802a8b0",
   "metadata": {},
   "outputs": [],
   "source": [
    "\n",
    "select name\n",
    "from world\n",
    "where gdp > \n",
    "(\n",
    "    select max(gdp) from world\n",
    "    where continent = 'europe'\n",
    ");\n",
    "    "
   ]
  },
  {
   "cell_type": "markdown",
   "id": "9e02bef2-73bf-43f1-a386-d196870195f7",
   "metadata": {},
   "source": [
    "**7-**\n",
    "* **Find the largest country (by area) in each continent, show the continent, the name and the area:**."
   ]
  },
  {
   "cell_type": "code",
   "execution_count": null,
   "id": "5a963261-10cb-4efe-ba75-b7c21fd0c5ce",
   "metadata": {},
   "outputs": [],
   "source": [
    "\n",
    "SELECT x.continent, x.name, x.area\n",
    "FROM world AS x\n",
    "WHERE x.area = (\n",
    "  SELECT MAX(y.area)\n",
    "  FROM world AS y\n",
    "  WHERE x.continent = y.continent)\n"
   ]
  },
  {
   "cell_type": "markdown",
   "id": "c8c89374-22b0-4117-959c-af13665bb67b",
   "metadata": {},
   "source": [
    "**8-**\n",
    "* **List each continent and the name of the country that comes first alphabetically**."
   ]
  },
  {
   "cell_type": "code",
   "execution_count": null,
   "id": "2305afb5-2c1f-413f-b569-8b128ce71a28",
   "metadata": {},
   "outputs": [],
   "source": [
    "\n",
    "SELECT continent, name\n",
    "FROM world x\n",
    "WHERE name <= ALL\n",
    "(\n",
    "SELECT name\n",
    "FROM world y\n",
    "WHERE x.continent = y.continent\n",
    ");\n"
   ]
  },
  {
   "cell_type": "markdown",
   "id": "b0a2509c-15a7-4717-a836-e3d6f56dbec3",
   "metadata": {},
   "source": [
    "**9-**\n",
    "* **Find the continents where all countries have a population <= 25000000. Then find the names of the countries associated with these continents. Show name, continent and population**."
   ]
  },
  {
   "cell_type": "code",
   "execution_count": null,
   "id": "f492d2d4-8db2-42a8-bcbd-e6573e32ac84",
   "metadata": {},
   "outputs": [],
   "source": [
    "\n",
    "SELECT name, continent, population\n",
    "FROM world\n",
    "WHERE continent IN \n",
    "(\n",
    "SELECT continent\n",
    "FROM world  x\n",
    "WHERE 25000000 >= \n",
    "    (SELECT MAX(population) FROM world y \n",
    "     WHERE x.continent = y.continent)\n",
    ");\n"
   ]
  },
  {
   "cell_type": "markdown",
   "id": "86a42ee3-b685-4e0f-ae5d-2db3a8e4d160",
   "metadata": {},
   "source": [
    "**10-**\n",
    "* **Some countries have populations more than three times that of all of their neighbours (in the same continent). Give the countries and continents**."
   ]
  },
  {
   "cell_type": "code",
   "execution_count": null,
   "id": "1a41bfbe-0c7d-40b8-a408-bed5f5981c18",
   "metadata": {},
   "outputs": [],
   "source": [
    "\n",
    "SELECT name, continent\n",
    "FROM world x\n",
    "WHERE population > ALL\n",
    "(\n",
    "SELECT 3*population\n",
    "FROM world y\n",
    "WHERE x.continent = y.continent AND x.name <> y.name\n",
    ");\n",
    "    "
   ]
  },
  {
   "cell_type": "code",
   "execution_count": null,
   "id": "3ff8ce09-0b09-41a4-90dc-9138421ac928",
   "metadata": {},
   "outputs": [],
   "source": []
  }
 ],
 "metadata": {
  "kernelspec": {
   "display_name": "Python 3 (ipykernel)",
   "language": "python",
   "name": "python3"
  },
  "language_info": {
   "codemirror_mode": {
    "name": "ipython",
    "version": 3
   },
   "file_extension": ".py",
   "mimetype": "text/x-python",
   "name": "python",
   "nbconvert_exporter": "python",
   "pygments_lexer": "ipython3",
   "version": "3.11.5"
  }
 },
 "nbformat": 4,
 "nbformat_minor": 5
}
