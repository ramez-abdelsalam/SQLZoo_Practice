{
 "cells": [
  {
   "cell_type": "markdown",
   "id": "73b61c7c-e78b-4984-93b3-0da1446ad890",
   "metadata": {},
   "source": [
    "## SQLZoo More JOIN operations Practice Solutions."
   ]
  },
  {
   "cell_type": "code",
   "execution_count": null,
   "id": "4eb45077-aea9-460f-a5c3-f82ce03f8317",
   "metadata": {},
   "outputs": [],
   "source": []
  },
  {
   "cell_type": "markdown",
   "id": "0d994d94-234b-4ee6-9ec4-3d5aa935deed",
   "metadata": {},
   "source": [
    "**1-**\n",
    "* **List the films where the yr is 1962 [Show id, title]**."
   ]
  },
  {
   "cell_type": "code",
   "execution_count": null,
   "id": "52d9b80c-42aa-434a-a56d-73dd2e142375",
   "metadata": {},
   "outputs": [],
   "source": [
    "\n",
    "SELECT id, title\n",
    " FROM movie\n",
    " WHERE yr=1962;\n",
    "    "
   ]
  },
  {
   "cell_type": "markdown",
   "id": "6e76ec77-8437-4350-84be-ea670f8b6081",
   "metadata": {},
   "source": [
    "**2-**\n",
    "* **Give year of 'Citizen Kane'**."
   ]
  },
  {
   "cell_type": "code",
   "execution_count": null,
   "id": "ae7129b7-6d04-454b-823b-9c0cf0d2e0e4",
   "metadata": {},
   "outputs": [],
   "source": [
    "\n",
    "SELECT yr\n",
    "FROM movie\n",
    "WHERE title = 'citizen kane';\n"
   ]
  },
  {
   "cell_type": "markdown",
   "id": "769f1520-5fad-4499-a8fd-91a09e7b0166",
   "metadata": {},
   "source": [
    "**3-**\n",
    "* **List all of the Star Trek movies, include the id, title and yr (all of these movies include the words Star Trek in the title). Order results by year**."
   ]
  },
  {
   "cell_type": "code",
   "execution_count": null,
   "id": "a4d0068b-4119-49cf-8bb4-8089243f270d",
   "metadata": {},
   "outputs": [],
   "source": [
    "\n",
    "SELECT id, title, yr\n",
    "FROM movie \n",
    "WHERE title like '%star trek%'\n",
    "ORDER BY yr;\n"
   ]
  },
  {
   "cell_type": "markdown",
   "id": "4233802d-cea2-467c-b5e0-5b75b6156313",
   "metadata": {},
   "source": [
    "**4-**\n",
    "* **What id number does the actor 'Glenn Close' have?**"
   ]
  },
  {
   "cell_type": "code",
   "execution_count": null,
   "id": "bcadcf51-1d27-48f0-9ea0-6edda890591e",
   "metadata": {},
   "outputs": [],
   "source": [
    "\n",
    "SELECT id\n",
    "FROM actor\n",
    "WHERE name = 'glenn close';\n",
    "    "
   ]
  },
  {
   "cell_type": "markdown",
   "id": "17561ad0-23b1-4547-b491-0632850b8271",
   "metadata": {},
   "source": [
    "**5-**\n",
    "* **What is the id of the film 'Casablanca'**."
   ]
  },
  {
   "cell_type": "code",
   "execution_count": null,
   "id": "a0f172c5-7dcf-4c6d-8142-c21ad802a8b0",
   "metadata": {},
   "outputs": [],
   "source": [
    "\n",
    "SELECT id\n",
    "FROM movie\n",
    "WHERE title = 'casablanca';\n",
    "    "
   ]
  },
  {
   "cell_type": "markdown",
   "id": "9e02bef2-73bf-43f1-a386-d196870195f7",
   "metadata": {},
   "source": [
    "**6-**\n",
    "* **Obtain the cast list for 'Casablanca'**.\n",
    "* Use movieid=11768, (or whatever value you got from the previous question)."
   ]
  },
  {
   "cell_type": "code",
   "execution_count": null,
   "id": "5a963261-10cb-4efe-ba75-b7c21fd0c5ce",
   "metadata": {},
   "outputs": [],
   "source": [
    "\n",
    "SELECT name\n",
    "FROM actor\n",
    "JOIN casting ON id = actorid\n",
    "WHERE movieid = 11768;\n"
   ]
  },
  {
   "cell_type": "markdown",
   "id": "c8c89374-22b0-4117-959c-af13665bb67b",
   "metadata": {},
   "source": [
    "**7-**\n",
    "* **Obtain the cast list for the film 'Alien'**."
   ]
  },
  {
   "cell_type": "code",
   "execution_count": null,
   "id": "2305afb5-2c1f-413f-b569-8b128ce71a28",
   "metadata": {},
   "outputs": [],
   "source": [
    "\n",
    "select name\n",
    "from actor A\n",
    "join casting C on A.id = C.actorid\n",
    "JOIN movie M ON C.movieid = M.id\n",
    "WHERE title = 'alien';\n"
   ]
  },
  {
   "cell_type": "markdown",
   "id": "b0a2509c-15a7-4717-a836-e3d6f56dbec3",
   "metadata": {},
   "source": [
    "**8-**\n",
    "* **List the films in which 'Harrison Ford' has appeared**."
   ]
  },
  {
   "cell_type": "code",
   "execution_count": null,
   "id": "f492d2d4-8db2-42a8-bcbd-e6573e32ac84",
   "metadata": {},
   "outputs": [],
   "source": [
    "\n",
    "SELECT title FROM movie M\n",
    "JOIN casting C ON M.id = C.movieid\n",
    "JOIN actor A ON C.actorid = A.id\n",
    "WHERE name = 'harrison ford';\n",
    "    "
   ]
  },
  {
   "cell_type": "markdown",
   "id": "86a42ee3-b685-4e0f-ae5d-2db3a8e4d160",
   "metadata": {},
   "source": [
    "**9-**\n",
    "* **List the films where 'Harrison Ford' has appeared - but not in the starring role. [Note: the ord field of casting gives the position of the actor. If ord=1 then this actor is in the starring role]**."
   ]
  },
  {
   "cell_type": "code",
   "execution_count": null,
   "id": "1a41bfbe-0c7d-40b8-a408-bed5f5981c18",
   "metadata": {},
   "outputs": [],
   "source": [
    "\n",
    "SELECT title FROM movie M\n",
    "JOIN casting C ON M.id = C.movieid\n",
    "JOIN actor A ON C.actorid = A.id\n",
    "WHERE name = 'harrison ford'\n",
    "AND ord != 1;\n",
    "    "
   ]
  },
  {
   "cell_type": "markdown",
   "id": "16944e37-b5fc-4b00-a0de-2ba475d35110",
   "metadata": {},
   "source": [
    "**10-**\n",
    "* **List the films together with the leading star for all 1962 films**."
   ]
  },
  {
   "cell_type": "code",
   "execution_count": null,
   "id": "6c9df3fc-02a8-4de1-b24c-72e6b74a7731",
   "metadata": {},
   "outputs": [],
   "source": [
    "\n",
    "SELECT title, name\n",
    "FROM movie M\n",
    "JOIN casting C ON M.id = C.movieid\n",
    "JOIN actor A ON C.actorid = A.id\n",
    "WHERE yr = 1962\n",
    "AND ord = 1;\n"
   ]
  },
  {
   "cell_type": "markdown",
   "id": "011a2e03-be3e-4e4c-9a99-2790b7defb8b",
   "metadata": {},
   "source": [
    "**11-**\n",
    "* **Which were the busiest years for 'Rock Hudson', show the year and the number of movies he made each year for any year in which he made more than 2 movies**."
   ]
  },
  {
   "cell_type": "code",
   "execution_count": null,
   "id": "6c9bbc24-cef1-4c8b-854d-04542fba1124",
   "metadata": {},
   "outputs": [],
   "source": [
    "\n",
    "SELECT yr,COUNT(title) FROM\n",
    "  movie JOIN casting ON movie.id=movieid\n",
    "        JOIN actor   ON actorid=actor.id\n",
    "WHERE name='rock hudson'\n",
    "GROUP BY yr\n",
    "HAVING COUNT(title) > 2;\n"
   ]
  },
  {
   "cell_type": "markdown",
   "id": "147c9c01-fdf0-4d04-9208-60c811111649",
   "metadata": {},
   "source": [
    "**12-**\n",
    "* **List the film title and the leading actor for all of the films 'Julie Andrews' played in**."
   ]
  },
  {
   "cell_type": "code",
   "execution_count": null,
   "id": "ea565dfb-2977-4a62-9ff7-1ea7eb7e8e62",
   "metadata": {},
   "outputs": [],
   "source": [
    "\n",
    "SELECT title, A.name\n",
    "FROM movie M\n",
    "JOIN casting C ON M.id = C.movieid\n",
    "JOIN actor A ON A.id = C.actorid\n",
    "WHERE ord = 1\n",
    "AND M.id  IN (\n",
    "SELECT movieid FROM casting C\n",
    "JOIN actor A ON C.actorid = A.id\n",
    "WHERE A.name = 'Julie Andrews');\n"
   ]
  },
  {
   "cell_type": "markdown",
   "id": "aea69bdb-e480-4bb2-a497-47cefee37ceb",
   "metadata": {},
   "source": [
    "**13-**\n",
    "* **Obtain a list, in alphabetical order, of actors who've had at least 15 starring roles**."
   ]
  },
  {
   "cell_type": "code",
   "execution_count": null,
   "id": "f4193828-2f04-411f-8695-9491f5063931",
   "metadata": {},
   "outputs": [],
   "source": [
    "\n",
    "SELECT name FROM actor A\n",
    "JOIN casting C ON A.id = C.actorid\n",
    "JOIN movie M ON C.movieid = M.id\n",
    "WHERE ord = 1\n",
    "GROUP BY name\n",
    "HAVING COUNT(title) >= 15\n",
    "ORDER BY A.name;\n"
   ]
  },
  {
   "cell_type": "markdown",
   "id": "4534fea4-b8c3-4f78-a954-eba1f2b08d71",
   "metadata": {},
   "source": [
    "**14-**\n",
    "* **List the films released in the year 1978 ordered by the number of actors in the cast, then by title**."
   ]
  },
  {
   "cell_type": "code",
   "execution_count": null,
   "id": "4723d80a-2771-49bb-97b9-82d80586b0b8",
   "metadata": {},
   "outputs": [],
   "source": [
    "\n",
    "SELECT title, COUNT(actorid) FROM movie M\n",
    "JOIN casting C ON M.id = C.movieid\n",
    "JOIN actor A ON C.actorid = A.id\n",
    "WHERE M.yr = 1978\n",
    "GROUP BY title\n",
    "ORDER BY count(actorid) DESC, title;\n"
   ]
  },
  {
   "cell_type": "code",
   "execution_count": null,
   "id": "d48237eb-ca8a-4e18-8aae-74ea802d50a8",
   "metadata": {},
   "outputs": [],
   "source": []
  }
 ],
 "metadata": {
  "kernelspec": {
   "display_name": "Python 3 (ipykernel)",
   "language": "python",
   "name": "python3"
  },
  "language_info": {
   "codemirror_mode": {
    "name": "ipython",
    "version": 3
   },
   "file_extension": ".py",
   "mimetype": "text/x-python",
   "name": "python",
   "nbconvert_exporter": "python",
   "pygments_lexer": "ipython3",
   "version": "3.11.5"
  }
 },
 "nbformat": 4,
 "nbformat_minor": 5
}
