{
 "cells": [
  {
   "cell_type": "markdown",
   "id": "73b61c7c-e78b-4984-93b3-0da1446ad890",
   "metadata": {},
   "source": [
    "## SQLZoo SUM and COUNT Practice Solutions."
   ]
  },
  {
   "cell_type": "code",
   "execution_count": null,
   "id": "4eb45077-aea9-460f-a5c3-f82ce03f8317",
   "metadata": {},
   "outputs": [],
   "source": []
  },
  {
   "cell_type": "markdown",
   "id": "edf1ce27-63e0-4c5c-a9dd-ba3376bb8612",
   "metadata": {},
   "source": [
    "**1-**\n",
    "* **Show the total population of the world**."
   ]
  },
  {
   "cell_type": "code",
   "execution_count": null,
   "id": "f14a6377-0882-4e0a-8ac8-6d1f0ac23413",
   "metadata": {},
   "outputs": [],
   "source": [
    "\n",
    "SELECT SUM(population)\n",
    "FROM world;\n",
    "    "
   ]
  },
  {
   "cell_type": "markdown",
   "id": "0d994d94-234b-4ee6-9ec4-3d5aa935deed",
   "metadata": {},
   "source": [
    "**2-**\n",
    "* **List all the continents - just once each**."
   ]
  },
  {
   "cell_type": "code",
   "execution_count": null,
   "id": "52d9b80c-42aa-434a-a56d-73dd2e142375",
   "metadata": {},
   "outputs": [],
   "source": [
    "\n",
    "SELECT DISTINCT continent\n",
    "from world;\n",
    "    "
   ]
  },
  {
   "cell_type": "markdown",
   "id": "6e76ec77-8437-4350-84be-ea670f8b6081",
   "metadata": {},
   "source": [
    "**3-**\n",
    "* **Give the total GDP of Africa**."
   ]
  },
  {
   "cell_type": "code",
   "execution_count": null,
   "id": "ae7129b7-6d04-454b-823b-9c0cf0d2e0e4",
   "metadata": {},
   "outputs": [],
   "source": [
    "\n",
    "select sum(gdp)\n",
    "from world\n",
    "where continent = 'Africa';\n"
   ]
  },
  {
   "cell_type": "markdown",
   "id": "769f1520-5fad-4499-a8fd-91a09e7b0166",
   "metadata": {},
   "source": [
    "**4-**\n",
    "* **How many countries have an area of at least 1000000**."
   ]
  },
  {
   "cell_type": "code",
   "execution_count": null,
   "id": "a4d0068b-4119-49cf-8bb4-8089243f270d",
   "metadata": {},
   "outputs": [],
   "source": [
    "\n",
    "select count(name)\n",
    "from world\n",
    "where area > 1000000;\n"
   ]
  },
  {
   "cell_type": "markdown",
   "id": "4233802d-cea2-467c-b5e0-5b75b6156313",
   "metadata": {},
   "source": [
    "**5-**\n",
    "* **What is the total population of ('Estonia', 'Latvia', 'Lithuania')**."
   ]
  },
  {
   "cell_type": "code",
   "execution_count": null,
   "id": "bcadcf51-1d27-48f0-9ea0-6edda890591e",
   "metadata": {},
   "outputs": [],
   "source": [
    "\n",
    "select sum(population)\n",
    "from world\n",
    "where name in ('Estonia', 'Latvia', 'Lithuania');\n",
    "    "
   ]
  },
  {
   "cell_type": "markdown",
   "id": "17561ad0-23b1-4547-b491-0632850b8271",
   "metadata": {},
   "source": [
    "**6-**\n",
    "* **For each continent show the continent and number of countries**."
   ]
  },
  {
   "cell_type": "code",
   "execution_count": null,
   "id": "a0f172c5-7dcf-4c6d-8142-c21ad802a8b0",
   "metadata": {},
   "outputs": [],
   "source": [
    "\n",
    "select continent, count(name)\n",
    "from world\n",
    "group by continent;\n",
    "    "
   ]
  },
  {
   "cell_type": "markdown",
   "id": "9e02bef2-73bf-43f1-a386-d196870195f7",
   "metadata": {},
   "source": [
    "**7-**\n",
    "* **For each continent show the continent and number of countries with populations of at least 10 million**."
   ]
  },
  {
   "cell_type": "code",
   "execution_count": null,
   "id": "5a963261-10cb-4efe-ba75-b7c21fd0c5ce",
   "metadata": {},
   "outputs": [],
   "source": [
    "\n",
    "select continent, count(name)\n",
    "from world\n",
    "where population >= 10000000\n",
    "group by continent;\n"
   ]
  },
  {
   "cell_type": "markdown",
   "id": "c8c89374-22b0-4117-959c-af13665bb67b",
   "metadata": {},
   "source": [
    "**8-**\n",
    "* **List the continents that have a total population of at least 100 million**."
   ]
  },
  {
   "cell_type": "code",
   "execution_count": null,
   "id": "2305afb5-2c1f-413f-b569-8b128ce71a28",
   "metadata": {},
   "outputs": [],
   "source": [
    "\n",
    "select continent\n",
    "from world\n",
    "group by continent\n",
    "having sum(population) > 100000000\n",
    ";\n"
   ]
  },
  {
   "cell_type": "code",
   "execution_count": null,
   "id": "3ff8ce09-0b09-41a4-90dc-9138421ac928",
   "metadata": {},
   "outputs": [],
   "source": []
  }
 ],
 "metadata": {
  "kernelspec": {
   "display_name": "Python 3 (ipykernel)",
   "language": "python",
   "name": "python3"
  },
  "language_info": {
   "codemirror_mode": {
    "name": "ipython",
    "version": 3
   },
   "file_extension": ".py",
   "mimetype": "text/x-python",
   "name": "python",
   "nbconvert_exporter": "python",
   "pygments_lexer": "ipython3",
   "version": "3.11.5"
  }
 },
 "nbformat": 4,
 "nbformat_minor": 5
}
