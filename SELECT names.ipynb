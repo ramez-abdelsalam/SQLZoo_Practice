{
 "cells": [
  {
   "cell_type": "markdown",
   "id": "73b61c7c-e78b-4984-93b3-0da1446ad890",
   "metadata": {},
   "source": [
    "## SQLZoo SELECT names Practice Solutions."
   ]
  },
  {
   "cell_type": "code",
   "execution_count": null,
   "id": "4eb45077-aea9-460f-a5c3-f82ce03f8317",
   "metadata": {},
   "outputs": [],
   "source": []
  },
  {
   "cell_type": "markdown",
   "id": "edf1ce27-63e0-4c5c-a9dd-ba3376bb8612",
   "metadata": {},
   "source": [
    "**1-**\n",
    "* **Find the country that start with Y.**"
   ]
  },
  {
   "cell_type": "code",
   "execution_count": null,
   "id": "f14a6377-0882-4e0a-8ac8-6d1f0ac23413",
   "metadata": {},
   "outputs": [],
   "source": [
    "\n",
    "SELECT name FROM world\n",
    "  WHERE name LIKE 'y%';\n",
    "    "
   ]
  },
  {
   "cell_type": "markdown",
   "id": "0d994d94-234b-4ee6-9ec4-3d5aa935deed",
   "metadata": {},
   "source": [
    "**2-**\n",
    "* **Find the countries that end with y**."
   ]
  },
  {
   "cell_type": "code",
   "execution_count": null,
   "id": "52d9b80c-42aa-434a-a56d-73dd2e142375",
   "metadata": {},
   "outputs": [],
   "source": [
    "\n",
    "SELECT name FROM world\n",
    "  WHERE name LIKE '%y';\n",
    "    "
   ]
  },
  {
   "cell_type": "markdown",
   "id": "6e76ec77-8437-4350-84be-ea670f8b6081",
   "metadata": {},
   "source": [
    "**3-**\n",
    "* Luxembourg has an x - so does one other country. List them both.\n",
    "* **Find the countries that contain the letter x**."
   ]
  },
  {
   "cell_type": "code",
   "execution_count": null,
   "id": "ae7129b7-6d04-454b-823b-9c0cf0d2e0e4",
   "metadata": {},
   "outputs": [],
   "source": [
    "\n",
    "SELECT name FROM world\n",
    "  WHERE name LIKE '%x%';\n"
   ]
  },
  {
   "cell_type": "markdown",
   "id": "769f1520-5fad-4499-a8fd-91a09e7b0166",
   "metadata": {},
   "source": [
    "**4-**\n",
    "* Iceland, Switzerland end with land - but are there others?.\n",
    "* **Find the countries that end with land**."
   ]
  },
  {
   "cell_type": "code",
   "execution_count": null,
   "id": "a4d0068b-4119-49cf-8bb4-8089243f270d",
   "metadata": {},
   "outputs": [],
   "source": [
    "\n",
    "SELECT name FROM world\n",
    "  WHERE name LIKE '%land';\n"
   ]
  },
  {
   "cell_type": "markdown",
   "id": "4233802d-cea2-467c-b5e0-5b75b6156313",
   "metadata": {},
   "source": [
    "**5-**\n",
    "* Columbia starts with a C and ends with ia - there are two more like this.\n",
    "* **Find the countries that start with C and end with ia**."
   ]
  },
  {
   "cell_type": "code",
   "execution_count": null,
   "id": "bcadcf51-1d27-48f0-9ea0-6edda890591e",
   "metadata": {},
   "outputs": [],
   "source": [
    "\n",
    "SELECT name FROM world\n",
    "  WHERE name LIKE 'c%ia';\n",
    "    "
   ]
  },
  {
   "cell_type": "markdown",
   "id": "17561ad0-23b1-4547-b491-0632850b8271",
   "metadata": {},
   "source": [
    "**6-**\n",
    "* Greece has a double e - who has a double o?\n",
    "* **Find the country that has oo in the name**."
   ]
  },
  {
   "cell_type": "code",
   "execution_count": null,
   "id": "a0f172c5-7dcf-4c6d-8142-c21ad802a8b0",
   "metadata": {},
   "outputs": [],
   "source": [
    "\n",
    "SELECT name FROM world\n",
    "  WHERE name LIKE '%oo%';\n",
    "    "
   ]
  },
  {
   "cell_type": "markdown",
   "id": "9e02bef2-73bf-43f1-a386-d196870195f7",
   "metadata": {},
   "source": [
    "**7-**\n",
    "* Bahamas has three a - who else?\n",
    "* **Find the countries that have three or more a in the name**."
   ]
  },
  {
   "cell_type": "code",
   "execution_count": null,
   "id": "5a963261-10cb-4efe-ba75-b7c21fd0c5ce",
   "metadata": {},
   "outputs": [],
   "source": [
    "\n",
    "SELECT name FROM world\n",
    "  WHERE name LIKE '%a%a%a%';\n"
   ]
  },
  {
   "cell_type": "markdown",
   "id": "c8c89374-22b0-4117-959c-af13665bb67b",
   "metadata": {},
   "source": [
    "**8-**\n",
    "* India and Angola have an n as the second character. You can use the underscore as a single character wildcard.\n",
    "* **Find the countries that have \"t\" as the second character**."
   ]
  },
  {
   "cell_type": "code",
   "execution_count": null,
   "id": "2305afb5-2c1f-413f-b569-8b128ce71a28",
   "metadata": {},
   "outputs": [],
   "source": [
    "\n",
    "SELECT name FROM world\n",
    " WHERE name LIKE '_t%'\n",
    "ORDER BY name;"
   ]
  },
  {
   "cell_type": "markdown",
   "id": "b0a2509c-15a7-4717-a836-e3d6f56dbec3",
   "metadata": {},
   "source": [
    "**9-**\n",
    "* Lesotho and Moldova both have two o characters separated by two other characters.\n",
    "* **Find the countries that have two \"o\" characters separated by two others**."
   ]
  },
  {
   "cell_type": "code",
   "execution_count": null,
   "id": "f492d2d4-8db2-42a8-bcbd-e6573e32ac84",
   "metadata": {},
   "outputs": [],
   "source": [
    "\n",
    "SELECT name FROM world\n",
    " WHERE name LIKE '%o__o%';\n",
    "    "
   ]
  },
  {
   "cell_type": "markdown",
   "id": "86a42ee3-b685-4e0f-ae5d-2db3a8e4d160",
   "metadata": {},
   "source": [
    "**10-**\n",
    "* Cuba and Togo have four characters names.\n",
    "* **Find the countries that have exactly four characters**."
   ]
  },
  {
   "cell_type": "code",
   "execution_count": null,
   "id": "1a41bfbe-0c7d-40b8-a408-bed5f5981c18",
   "metadata": {},
   "outputs": [],
   "source": [
    "\n",
    "SELECT name FROM world\n",
    " WHERE length(name) = 4\n",
    "    "
   ]
  },
  {
   "cell_type": "code",
   "execution_count": null,
   "id": "f6b558a5-42ec-4567-90b5-cf6d1afbd8ea",
   "metadata": {},
   "outputs": [],
   "source": []
  },
  {
   "cell_type": "markdown",
   "id": "63ab8dc7-cbe0-4e8b-8e87-47ca4b981c54",
   "metadata": {},
   "source": [
    "## Harder Questions."
   ]
  },
  {
   "cell_type": "code",
   "execution_count": null,
   "id": "4cd39882-9f5a-4e81-9bd1-68ad888fd006",
   "metadata": {},
   "outputs": [],
   "source": []
  },
  {
   "cell_type": "markdown",
   "id": "16944e37-b5fc-4b00-a0de-2ba475d35110",
   "metadata": {},
   "source": [
    "**11-**\n",
    "* The capital of Luxembourg is Luxembourg. Show all the countries where the capital is the same as the name of the country\n",
    "* **Find the country where the name is the capital city**."
   ]
  },
  {
   "cell_type": "code",
   "execution_count": null,
   "id": "6c9df3fc-02a8-4de1-b24c-72e6b74a7731",
   "metadata": {},
   "outputs": [],
   "source": [
    "\n",
    "SELECT name FROM world\n",
    " WHERE name = capital;\n",
    "    "
   ]
  },
  {
   "cell_type": "markdown",
   "id": "011a2e03-be3e-4e4c-9a99-2790b7defb8b",
   "metadata": {},
   "source": [
    "**12-**\n",
    "* The capital of Mexico is Mexico City. Show all the countries where the capital has the country together with the word \"City\".\n",
    "* **Find the country where the capital is the country plus \"City\"**."
   ]
  },
  {
   "cell_type": "code",
   "execution_count": null,
   "id": "6c9bbc24-cef1-4c8b-854d-04542fba1124",
   "metadata": {},
   "outputs": [],
   "source": [
    "\n",
    "SELECT name\n",
    "FROM world\n",
    " WHERE capital = concat(name , ' city');\n",
    "    "
   ]
  },
  {
   "cell_type": "markdown",
   "id": "147c9c01-fdf0-4d04-9208-60c811111649",
   "metadata": {},
   "source": [
    "**13-**\n",
    "* **Find the capital and the name where the capital includes the name of the country**."
   ]
  },
  {
   "cell_type": "code",
   "execution_count": null,
   "id": "ea565dfb-2977-4a62-9ff7-1ea7eb7e8e62",
   "metadata": {},
   "outputs": [],
   "source": [
    "\n",
    "SELECT capital, name\n",
    "FROM world w\n",
    "WHERE capital LIKE CONCAT ('%', name, '%');\n"
   ]
  },
  {
   "cell_type": "markdown",
   "id": "f86750f2-ce00-49a3-9fdc-96bbb60d7171",
   "metadata": {},
   "source": [
    "**14**\n",
    "* **Find the capital and the name where the capital is an extension of name of the country**.\n",
    "* You should include Mexico City as it is longer than Mexico. You should not include Luxembourg as the capital is the same as the country."
   ]
  },
  {
   "cell_type": "code",
   "execution_count": null,
   "id": "d95cd9c6-0630-4434-b2d0-0ad00a69fe82",
   "metadata": {},
   "outputs": [],
   "source": [
    "\n",
    "SELECT name, capital\n",
    "FROM world\n",
    "WHERE capital LIKE concat('%', name, '%') AND capital > name;\n"
   ]
  },
  {
   "cell_type": "markdown",
   "id": "de0cdd68-5b2e-465c-80fa-2f7bddaed790",
   "metadata": {},
   "source": [
    "**15-**\n",
    "* The capital of Monaco is Monaco-Ville: this is the name Monaco and the extension is -Ville.\n",
    "* **Show the name and the extension where the capital is a proper (non-empty) extension of name of the country**.\n",
    "* You can use the SQL function REPLACE."
   ]
  },
  {
   "cell_type": "code",
   "execution_count": null,
   "id": "fb705a8e-855b-43e0-b4ae-547b16d46b6a",
   "metadata": {},
   "outputs": [],
   "source": [
    "\n",
    "SELECT name, REPLACE(capital, name, '') AS extension\n",
    "FROM world\n",
    "WHERE capital LIKE concat('%', name, '%') AND capital > name;\n"
   ]
  },
  {
   "cell_type": "code",
   "execution_count": null,
   "id": "3ff8ce09-0b09-41a4-90dc-9138421ac928",
   "metadata": {},
   "outputs": [],
   "source": []
  }
 ],
 "metadata": {
  "kernelspec": {
   "display_name": "Python 3 (ipykernel)",
   "language": "python",
   "name": "python3"
  },
  "language_info": {
   "codemirror_mode": {
    "name": "ipython",
    "version": 3
   },
   "file_extension": ".py",
   "mimetype": "text/x-python",
   "name": "python",
   "nbconvert_exporter": "python",
   "pygments_lexer": "ipython3",
   "version": "3.11.5"
  }
 },
 "nbformat": 4,
 "nbformat_minor": 5
}
