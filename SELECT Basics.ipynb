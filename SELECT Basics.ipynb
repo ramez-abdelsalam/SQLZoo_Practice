{
 "cells": [
  {
   "cell_type": "markdown",
   "id": "73b61c7c-e78b-4984-93b3-0da1446ad890",
   "metadata": {},
   "source": [
    "## SQLZoo Select Basics Practice Solutions."
   ]
  },
  {
   "cell_type": "markdown",
   "id": "edf1ce27-63e0-4c5c-a9dd-ba3376bb8612",
   "metadata": {},
   "source": [
    "* The example uses a WHERE clause to show the population of 'France'. Note that strings should be in 'single quotes';\n",
    "* **Modify it to show the population of Germany.**"
   ]
  },
  {
   "cell_type": "code",
   "execution_count": null,
   "id": "f14a6377-0882-4e0a-8ac8-6d1f0ac23413",
   "metadata": {},
   "outputs": [],
   "source": [
    "\n",
    "SELECT population FROM world\n",
    "  WHERE name = 'Germany';\n",
    "    "
   ]
  },
  {
   "cell_type": "markdown",
   "id": "0d994d94-234b-4ee6-9ec4-3d5aa935deed",
   "metadata": {},
   "source": [
    "* Checking a list The word IN allows us to check if an item is in a list. The example shows the name and population for the countries 'Brazil', 'Russia', 'India' and 'China'.\n",
    "* **Show the name and the population for 'Sweden', 'Norway' and 'Denmark'**."
   ]
  },
  {
   "cell_type": "code",
   "execution_count": null,
   "id": "52d9b80c-42aa-434a-a56d-73dd2e142375",
   "metadata": {},
   "outputs": [],
   "source": [
    "\n",
    "SELECT name, population FROM world\n",
    "  WHERE name IN ( 'Sweden', 'Norway', 'Denmark');\n",
    "    "
   ]
  },
  {
   "cell_type": "markdown",
   "id": "6e76ec77-8437-4350-84be-ea670f8b6081",
   "metadata": {},
   "source": [
    "* Which countries are not too small and not too big? BETWEEN allows range checking (range specified is inclusive of boundary values). The example below shows countries with an area of 250,000-300,000 sq. km. Modify it to show the country and the area for countries with an area between 200,000 and 250,000."
   ]
  }
 ],
 "metadata": {
  "kernelspec": {
   "display_name": "Python 3 (ipykernel)",
   "language": "python",
   "name": "python3"
  },
  "language_info": {
   "codemirror_mode": {
    "name": "ipython",
    "version": 3
   },
   "file_extension": ".py",
   "mimetype": "text/x-python",
   "name": "python",
   "nbconvert_exporter": "python",
   "pygments_lexer": "ipython3",
   "version": "3.11.5"
  }
 },
 "nbformat": 4,
 "nbformat_minor": 5
}
