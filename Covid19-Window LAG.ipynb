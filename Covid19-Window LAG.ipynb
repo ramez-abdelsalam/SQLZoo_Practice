{
 "cells": [
  {
   "cell_type": "markdown",
   "id": "73b61c7c-e78b-4984-93b3-0da1446ad890",
   "metadata": {},
   "source": [
    "## SQLZoo Covid19 Window LAG Practice Solutions."
   ]
  },
  {
   "cell_type": "code",
   "execution_count": null,
   "id": "4eb45077-aea9-460f-a5c3-f82ce03f8317",
   "metadata": {},
   "outputs": [],
   "source": []
  },
  {
   "cell_type": "markdown",
   "id": "edf1ce27-63e0-4c5c-a9dd-ba3376bb8612",
   "metadata": {},
   "source": [
    "**1-**\n",
    "* The example uses a WHERE clause to show the cases in 'Italy' in March 2020.\n",
    "* **Modify the query to show data from Spain**."
   ]
  },
  {
   "cell_type": "code",
   "execution_count": null,
   "id": "f14a6377-0882-4e0a-8ac8-6d1f0ac23413",
   "metadata": {},
   "outputs": [],
   "source": [
    "\n",
    "SELECT name, DAY(whn),\n",
    "confirmed, deaths, recovered\n",
    "FROM covid\n",
    "WHERE name = 'Spain'\n",
    "AND MONTH(whn) = 3 AND YEAR(whn) = 2020\n",
    "ORDER BY whn\n",
    ";\n",
    "    "
   ]
  },
  {
   "cell_type": "markdown",
   "id": "0d994d94-234b-4ee6-9ec4-3d5aa935deed",
   "metadata": {},
   "source": [
    "**2-**\n",
    "* The LAG function is used to show data from the preceding row or the table. When lining up rows the data is partitioned by country name and ordered by the data whn. That means that only data from Italy is considered.\n",
    "* **Modify the query to show confirmed for the day before**."
   ]
  },
  {
   "cell_type": "code",
   "execution_count": null,
   "id": "52d9b80c-42aa-434a-a56d-73dd2e142375",
   "metadata": {},
   "outputs": [],
   "source": [
    "\n",
    "SELECT name, DAY(whn), confirmed,\n",
    "LAG(confirmed, 1) OVER (PARTITION BY name ORDER BY whn) AS day_b4_confirmed\n",
    "FROM covid\n",
    "WHERE name = 'Italy'\n",
    "AND MONTH(whn) = 3 AND YEAR(whn) = 2020\n",
    "ORDER BY whn\n",
    ";\n",
    "    "
   ]
  },
  {
   "cell_type": "markdown",
   "id": "6e76ec77-8437-4350-84be-ea670f8b6081",
   "metadata": {},
   "source": [
    "**3-**\n",
    "* The number of confirmed case is cumulative - but we can use LAG to recover the number of new cases reported for each day\n",
    "* **Show the number of new cases for each day, for Italy, for March**."
   ]
  },
  {
   "cell_type": "code",
   "execution_count": null,
   "id": "ae7129b7-6d04-454b-823b-9c0cf0d2e0e4",
   "metadata": {},
   "outputs": [],
   "source": [
    "\n",
    "SELECT name, DAY(whn), \n",
    "(\n",
    "confirmed - LAG(confirmed, 1) OVER (PARTITION BY name ORDER BY whn)\n",
    ")    AS daily_new\n",
    "FROM covid\n",
    "WHERE name = 'Italy'\n",
    "AND MONTH(whn) = 3 AND YEAR(whn) = 2020\n",
    "ORDER BY whn\n",
    ";\n"
   ]
  },
  {
   "cell_type": "markdown",
   "id": "769f1520-5fad-4499-a8fd-91a09e7b0166",
   "metadata": {},
   "source": [
    "**4-**\n",
    "* The data gathered are necessarily estimates and are inaccurate. However by taking a longer time span we can mitigate some of the effects.\n",
    "* You can filter the data to view only Monday's figures **WHERE WEEKDAY(whn) = 0**.\n",
    "* **Show the number of new cases in Italy for each week in 2020 - show Monday only**."
   ]
  },
  {
   "cell_type": "code",
   "execution_count": null,
   "id": "a4d0068b-4119-49cf-8bb4-8089243f270d",
   "metadata": {},
   "outputs": [],
   "source": [
    "\n",
    "SELECT name, DATE_FORMAT(whn,'%Y-%m-%d') AS weekly_date, \n",
    "(\n",
    "confirmed -\n",
    "LAG(confirmed, 1) OVER (PARTITION BY name ORDER BY whn)\n",
    ")    AS weekly_new\n",
    "\n",
    "FROM covid\n",
    "WHERE name = 'Italy'\n",
    "AND WEEKDAY(whn) = 0 AND YEAR(whn) = 2020\n",
    "ORDER BY whn\n",
    ";\n"
   ]
  },
  {
   "cell_type": "markdown",
   "id": "4233802d-cea2-467c-b5e0-5b75b6156313",
   "metadata": {},
   "source": [
    "**5-**\n",
    "* You can JOIN a table using DATE arithmetic. This will give different results if data is missing.\n",
    "* **Show the number of new cases in Italy for each week - show Monday only.**.\n",
    "* In the sample query we JOIN this week **tw** with last week **lw** using the DATE_ADD function."
   ]
  },
  {
   "cell_type": "code",
   "execution_count": null,
   "id": "bcadcf51-1d27-48f0-9ea0-6edda890591e",
   "metadata": {},
   "outputs": [],
   "source": [
    "\n",
    "SELECT tw.name, \n",
    "DATE_FORMAT(tw.whn,'%Y-%m-%d') AS weekly_date, \n",
    "(tw.confirmed - lw.confirmed) AS weekly_new\n",
    "FROM covid tw LEFT JOIN covid lw ON \n",
    "DATE_ADD(lw.whn, INTERVAL 1 WEEK) = tw.whn\n",
    "AND tw.name=lw.name\n",
    "WHERE tw.name = 'Italy'\n",
    "AND WEEKDAY(tw.whn) = 0\n",
    "ORDER BY tw.whn\n",
    ";\n",
    "    "
   ]
  },
  {
   "cell_type": "markdown",
   "id": "17561ad0-23b1-4547-b491-0632850b8271",
   "metadata": {},
   "source": [
    "**6-**\n",
    "* This query shows the number of confirmed cases together with the world ranking for cases for the date '2020-04-20'. The number of COVID deaths is also shown.\n",
    "* United States has the highest number, Spain is number 2...\n",
    "* Notice that while Spain has the second highest confirmed cases, Italy has the second highest number of deaths due to the virus.\n",
    "* **Add a column to show the ranking for the number of deaths due to COVID**."
   ]
  },
  {
   "cell_type": "code",
   "execution_count": null,
   "id": "a0f172c5-7dcf-4c6d-8142-c21ad802a8b0",
   "metadata": {},
   "outputs": [],
   "source": [
    "\n",
    "SELECT name, confirmed,\n",
    "RANK() OVER (ORDER BY confirmed DESC) AS infections_rank,\n",
    "deaths,\n",
    "RANK() OVER (ORDER BY deaths DESC) AS deaths_rank\n",
    "FROM covid\n",
    "WHERE whn = '2020-04-20'\n",
    "ORDER BY confirmed DESC\n",
    ";\n",
    "    "
   ]
  },
  {
   "cell_type": "markdown",
   "id": "9e02bef2-73bf-43f1-a386-d196870195f7",
   "metadata": {},
   "source": [
    "**7-**\n",
    "* This query includes a JOIN t the world table so we can access the total population of each country and calculate infection rates (in cases per 100,000).\n",
    "* **Show the infection rate ranking for each country. Only include countries with a population of at least 10 million**."
   ]
  },
  {
   "cell_type": "code",
   "execution_count": null,
   "id": "5a963261-10cb-4efe-ba75-b7c21fd0c5ce",
   "metadata": {},
   "outputs": [],
   "source": [
    "\n",
    "SELECT \n",
    "world.name,\n",
    "ROUND(100000*confirmed/population,0)as infect_rate,\n",
    "RANK() OVER(ORDER BY infect_rate) \n",
    "FROM covid JOIN world ON covid.name=world.name\n",
    "WHERE whn = '2020-04-20' AND population > 10000000\n",
    "ORDER BY population DESC\n",
    ";\n"
   ]
  },
  {
   "cell_type": "markdown",
   "id": "c8c89374-22b0-4117-959c-af13665bb67b",
   "metadata": {},
   "source": [
    "**8-**\n",
    "* **For each country that has had at last 1000 new cases in a single day, show the date of the peak number of new cases.**."
   ]
  },
  {
   "cell_type": "code",
   "execution_count": null,
   "id": "2305afb5-2c1f-413f-b569-8b128ce71a28",
   "metadata": {},
   "outputs": [],
   "source": [
    "\n",
    "WITH cte1 AS\n",
    "(\n",
    "SELECT *, (confirmed - LAG(confirmed, 1) OVER (PARTITION BY name ORDER BY whn)) AS daily_cases\n",
    "FROM covid\n",
    ")\n",
    ", cte2 (name, max_cases) AS\n",
    "(\n",
    "SELECT name, MAX(daily_cases),\n",
    "FROM cte1\n",
    "GROUP BY name\n",
    "HAVING max_cases >= 1000\n",
    ")\n",
    "SELECT cte2.name, DATE_FORMAT(covid.whn,'%Y-%m-%d') AS date, cte2.max_cases\n",
    "FROM cte2 LEFT JOIN cte1 ON (cte2.name = cte1.name) AND (cte2.max_cases = cte1.daily_cases)\n",
    "ORDER BY date_;\n"
   ]
  },
  {
   "cell_type": "code",
   "execution_count": null,
   "id": "3ff8ce09-0b09-41a4-90dc-9138421ac928",
   "metadata": {},
   "outputs": [],
   "source": []
  }
 ],
 "metadata": {
  "kernelspec": {
   "display_name": "Python 3 (ipykernel)",
   "language": "python",
   "name": "python3"
  },
  "language_info": {
   "codemirror_mode": {
    "name": "ipython",
    "version": 3
   },
   "file_extension": ".py",
   "mimetype": "text/x-python",
   "name": "python",
   "nbconvert_exporter": "python",
   "pygments_lexer": "ipython3",
   "version": "3.11.5"
  }
 },
 "nbformat": 4,
 "nbformat_minor": 5
}
