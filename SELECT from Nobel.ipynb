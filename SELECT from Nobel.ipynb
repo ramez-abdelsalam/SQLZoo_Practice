{
 "cells": [
  {
   "cell_type": "markdown",
   "id": "73b61c7c-e78b-4984-93b3-0da1446ad890",
   "metadata": {},
   "source": [
    "## SQLZoo SELECT from Nobel Practice Solutions."
   ]
  },
  {
   "cell_type": "code",
   "execution_count": null,
   "id": "4eb45077-aea9-460f-a5c3-f82ce03f8317",
   "metadata": {},
   "outputs": [],
   "source": []
  },
  {
   "cell_type": "markdown",
   "id": "edf1ce27-63e0-4c5c-a9dd-ba3376bb8612",
   "metadata": {},
   "source": [
    "**1-**\n",
    "* **Change the query shown so that it displays Nobel prizes for 1950**."
   ]
  },
  {
   "cell_type": "code",
   "execution_count": null,
   "id": "f14a6377-0882-4e0a-8ac8-6d1f0ac23413",
   "metadata": {},
   "outputs": [],
   "source": [
    "\n",
    "SELECT yr, subject, winner\n",
    "FROM nobel\n",
    "WHERE yr = 1950\n",
    "    "
   ]
  },
  {
   "cell_type": "markdown",
   "id": "0d994d94-234b-4ee6-9ec4-3d5aa935deed",
   "metadata": {},
   "source": [
    "**2-**\n",
    "* **Show who won the 1962 prize for literature**."
   ]
  },
  {
   "cell_type": "code",
   "execution_count": null,
   "id": "52d9b80c-42aa-434a-a56d-73dd2e142375",
   "metadata": {},
   "outputs": [],
   "source": [
    "\n",
    "SELECT winner\n",
    "FROM nobel\n",
    "WHERE yr = 1962\n",
    "AND subject = 'literature';\n",
    "    "
   ]
  },
  {
   "cell_type": "markdown",
   "id": "6e76ec77-8437-4350-84be-ea670f8b6081",
   "metadata": {},
   "source": [
    "**3-**\n",
    "* **Show the year and subject that won 'Albert Einstein' his prize**."
   ]
  },
  {
   "cell_type": "code",
   "execution_count": null,
   "id": "ae7129b7-6d04-454b-823b-9c0cf0d2e0e4",
   "metadata": {},
   "outputs": [],
   "source": [
    "\n",
    "SELECT yr, subject\n",
    "FROM nobel\n",
    "WHERE winner = 'Albert Einstein';\n"
   ]
  },
  {
   "cell_type": "markdown",
   "id": "769f1520-5fad-4499-a8fd-91a09e7b0166",
   "metadata": {},
   "source": [
    "**4-**\n",
    "* **Give the name of the 'peace' winners since the year 2000, including 2000**."
   ]
  },
  {
   "cell_type": "code",
   "execution_count": null,
   "id": "a4d0068b-4119-49cf-8bb4-8089243f270d",
   "metadata": {},
   "outputs": [],
   "source": [
    "\n",
    "select winner\n",
    "from nobel\n",
    "where subject = 'peace'\n",
    "and yr >= 2000 ;\n"
   ]
  },
  {
   "cell_type": "markdown",
   "id": "4233802d-cea2-467c-b5e0-5b75b6156313",
   "metadata": {},
   "source": [
    "**5-**\n",
    "* **Show all details (yr, subject, winner) of the literature prize winners for 1980 to 1989 inclusive**."
   ]
  },
  {
   "cell_type": "code",
   "execution_count": null,
   "id": "bcadcf51-1d27-48f0-9ea0-6edda890591e",
   "metadata": {},
   "outputs": [],
   "source": [
    "\n",
    "select yr, subject, winner\n",
    "from nobel\n",
    "where subject = 'literature'\n",
    "and yr >= 1980 and yr <= 1989;\n",
    "    "
   ]
  },
  {
   "cell_type": "markdown",
   "id": "17561ad0-23b1-4547-b491-0632850b8271",
   "metadata": {},
   "source": [
    "**6-**\n",
    "* **Show all details of the presidential winners: Theodore Roosevelt, Thomas Woodrow Wilson, Jimmy Carter, Barack Obama**."
   ]
  },
  {
   "cell_type": "code",
   "execution_count": null,
   "id": "a0f172c5-7dcf-4c6d-8142-c21ad802a8b0",
   "metadata": {},
   "outputs": [],
   "source": [
    "\n",
    "SELECT * FROM nobel\n",
    "WHERE winner IN ('Theodore Roosevelt',\n",
    "                  'Thomas Woodrow Wilson',\n",
    "                  'Jimmy Carter',\n",
    "'barack obama');\n",
    "    "
   ]
  },
  {
   "cell_type": "markdown",
   "id": "9e02bef2-73bf-43f1-a386-d196870195f7",
   "metadata": {},
   "source": [
    "**7-**\n",
    "* **Show the winners with first name John**."
   ]
  },
  {
   "cell_type": "code",
   "execution_count": null,
   "id": "5a963261-10cb-4efe-ba75-b7c21fd0c5ce",
   "metadata": {},
   "outputs": [],
   "source": [
    "\n",
    "select winner\n",
    "from nobel\n",
    "where winner like 'john%';\n"
   ]
  },
  {
   "cell_type": "markdown",
   "id": "c8c89374-22b0-4117-959c-af13665bb67b",
   "metadata": {},
   "source": [
    "**8-**\n",
    "* **Show the year, subject, and name of physics winners for 1980 together with the chemistry winners for 1984**."
   ]
  },
  {
   "cell_type": "code",
   "execution_count": null,
   "id": "2305afb5-2c1f-413f-b569-8b128ce71a28",
   "metadata": {},
   "outputs": [],
   "source": [
    "\n",
    "select yr, subject, winner\n",
    "from nobel\n",
    "where subject = 'physics' and yr = 1980\n",
    "or subject = 'chemistry' and yr = 1984;\n"
   ]
  },
  {
   "cell_type": "markdown",
   "id": "b0a2509c-15a7-4717-a836-e3d6f56dbec3",
   "metadata": {},
   "source": [
    "**9-**\n",
    "* **Show the year, subject, and name of winners for 1980 excluding chemistry and medicine**."
   ]
  },
  {
   "cell_type": "code",
   "execution_count": null,
   "id": "f492d2d4-8db2-42a8-bcbd-e6573e32ac84",
   "metadata": {},
   "outputs": [],
   "source": [
    "\n",
    "select yr, subject, winner\n",
    "from nobel\n",
    "where yr= 1980\n",
    "and subject not in('chemistry', 'medicine');\n",
    "    "
   ]
  },
  {
   "cell_type": "markdown",
   "id": "86a42ee3-b685-4e0f-ae5d-2db3a8e4d160",
   "metadata": {},
   "source": [
    "**10-**\n",
    "* **Show year, subject, and name of people who won a 'Medicine' prize in an early year (before 1910, not including 1910) together with winners of a 'Literature' prize in a later year (after 2004, including 2004)**."
   ]
  },
  {
   "cell_type": "code",
   "execution_count": null,
   "id": "1a41bfbe-0c7d-40b8-a408-bed5f5981c18",
   "metadata": {},
   "outputs": [],
   "source": [
    "\n",
    "select *\n",
    "from nobel\n",
    "where yr < 1910 and subject = 'medicine'\n",
    "or\n",
    "yr >= 2004 and subject = 'literature';\n",
    "    "
   ]
  },
  {
   "cell_type": "code",
   "execution_count": null,
   "id": "f6b558a5-42ec-4567-90b5-cf6d1afbd8ea",
   "metadata": {},
   "outputs": [],
   "source": []
  },
  {
   "cell_type": "markdown",
   "id": "63ab8dc7-cbe0-4e8b-8e87-47ca4b981c54",
   "metadata": {},
   "source": [
    "## Harder Questions."
   ]
  },
  {
   "cell_type": "code",
   "execution_count": null,
   "id": "4cd39882-9f5a-4e81-9bd1-68ad888fd006",
   "metadata": {},
   "outputs": [],
   "source": []
  },
  {
   "cell_type": "markdown",
   "id": "16944e37-b5fc-4b00-a0de-2ba475d35110",
   "metadata": {},
   "source": [
    "**11-**\n",
    "* **Find all details of the prize won by PETER GRÜNBERG**."
   ]
  },
  {
   "cell_type": "code",
   "execution_count": null,
   "id": "6c9df3fc-02a8-4de1-b24c-72e6b74a7731",
   "metadata": {},
   "outputs": [],
   "source": [
    "\n",
    "select *\n",
    "from nobel\n",
    "where winner = 'PETER GRÜNBERG';\n",
    "    "
   ]
  },
  {
   "cell_type": "markdown",
   "id": "011a2e03-be3e-4e4c-9a99-2790b7defb8b",
   "metadata": {},
   "source": [
    "**12-**\n",
    "* **Find all details of the prize won by EUGENE O'NEILL\"**."
   ]
  },
  {
   "cell_type": "code",
   "execution_count": null,
   "id": "6c9bbc24-cef1-4c8b-854d-04542fba1124",
   "metadata": {},
   "outputs": [],
   "source": [
    "\n",
    "select *\n",
    "from nobel\n",
    "where winner = \"EUGENE O'NEILL\";\n",
    "    "
   ]
  },
  {
   "cell_type": "markdown",
   "id": "147c9c01-fdf0-4d04-9208-60c811111649",
   "metadata": {},
   "source": [
    "**13-**\n",
    "* **List the winners, year and subject where the winner starts with Sir. Show the the most recent first, then by name order**."
   ]
  },
  {
   "cell_type": "code",
   "execution_count": null,
   "id": "ea565dfb-2977-4a62-9ff7-1ea7eb7e8e62",
   "metadata": {},
   "outputs": [],
   "source": [
    "\n",
    "select winner, yr, subject \n",
    "from nobel\n",
    "where winner like'sir%'\n",
    "order by yr desc , winner;\n"
   ]
  },
  {
   "cell_type": "markdown",
   "id": "f86750f2-ce00-49a3-9fdc-96bbb60d7171",
   "metadata": {},
   "source": [
    "**14**\n",
    "* **Show the 1984 winners and subject ordered by subject and winner name; but list chemistry and physics last**."
   ]
  },
  {
   "cell_type": "code",
   "execution_count": null,
   "id": "d95cd9c6-0630-4434-b2d0-0ad00a69fe82",
   "metadata": {},
   "outputs": [],
   "source": [
    "\n",
    "SELECT winner, subject\n",
    "FROM nobel\n",
    "WHERE yr=1984\n",
    "ORDER BY subject IN ('Physics','Chemistry'),subject,winner;\n"
   ]
  },
  {
   "cell_type": "code",
   "execution_count": null,
   "id": "3ff8ce09-0b09-41a4-90dc-9138421ac928",
   "metadata": {},
   "outputs": [],
   "source": []
  }
 ],
 "metadata": {
  "kernelspec": {
   "display_name": "Python 3 (ipykernel)",
   "language": "python",
   "name": "python3"
  },
  "language_info": {
   "codemirror_mode": {
    "name": "ipython",
    "version": 3
   },
   "file_extension": ".py",
   "mimetype": "text/x-python",
   "name": "python",
   "nbconvert_exporter": "python",
   "pygments_lexer": "ipython3",
   "version": "3.11.5"
  }
 },
 "nbformat": 4,
 "nbformat_minor": 5
}
