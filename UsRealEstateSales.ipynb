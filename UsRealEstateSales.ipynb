{
 "cells": [
  {
   "cell_type": "markdown",
   "id": "b6ecc940-a600-48ea-94e4-186011c43ac1",
   "metadata": {},
   "source": [
    "   ## USA REAL ESTATE SALES 2001 - 2020 DATASET CLEANING"
   ]
  },
  {
   "cell_type": "markdown",
   "id": "10dc541f-b565-4695-a80c-6bdef1855040",
   "metadata": {},
   "source": [
    "**About the dataset**"
   ]
  },
  {
   "cell_type": "markdown",
   "id": "7c3e1294-b661-487e-b854-6c6c992afe1c",
   "metadata": {},
   "source": [
    "* Link to the dataset: https://www.kaggle.com/datasets/reenapinto/real-estate-sales-2001-2020/data\n",
    "* Lisence: U.S. Government Works\n",
    "* Usability: 8.82\n",
    "\n",
    "* The Office of Policy and Management maintains a listing of all real estate sales with a sales price of $2,000 or greater that occur between October 1 and September 30 of each year. For each sale record, the file includes town, property address, date of sale, property type (residential, apartment, commercial, industrial, or vacant land), sales price, and property assessment."
   ]
  },
  {
   "cell_type": "markdown",
   "id": "6347caaa-e03c-449a-9f3a-ec443ced661f",
   "metadata": {
    "tags": []
   },
   "source": [
    "**Columns description**"
   ]
  },
  {
   "cell_type": "markdown",
   "id": "33d150a9-af0e-49c9-9ea1-e0c23dd6a9db",
   "metadata": {},
   "source": [
    "* Serial Number: Regestration number of the transaction.\n",
    "* List Year: The year when the transation was listed in the system.\n",
    "* Date Recorded: Date of the transaction including Day, Month and Year\n",
    "* Town: Town of the property in the recorded transaction.\n",
    "* Adress: Street name and property number.\n",
    "* Assessed Value: The value of the property as determined by public tax assessor for the purpose of taxation.\n",
    "* Sale Amount: Actual amount paid for the sold property.\n",
    "* Sales Ratio: Relationship between assessed value and sale amount.\n",
    "* Property Type: Commertial, Residentai, land etc.\n",
    "* Residential Type: family or condominium.\n",
    "* OPM remarks: Remarks of US Office of Personnel Management "
   ]
  },
  {
   "cell_type": "markdown",
   "id": "867cd753-ac62-40a7-b200-94faa05868fd",
   "metadata": {},
   "source": [
    "**Mind Talk**"
   ]
  },
  {
   "cell_type": "markdown",
   "id": "f7064678-3442-495c-b12f-0236bda676fc",
   "metadata": {},
   "source": [
    "* While cleaning the dataset, i noticed some properties were assessed or sold for very low amounts down to zero, which made the corresponding sales ratio gets down to zero or become very high. This caused the mean for sales ratio column to be above 10, which is an unrealestic value. to solve that issue we can simply look for outliers and then removing them, which is an easy and a simple solution. but i decided to go further by trying to cure some of these values before removing the outliers that will remain.\n",
    "\n",
    "* Dataset dimensions when i removed all outliers is (785168, 15).\n",
    "* Dataset dimensions when i did some curing first before outliers removal is (871798, 17)"
   ]
  },
  {
   "cell_type": "markdown",
   "id": "407bbb14-6a44-4969-8aff-503d4e775aa8",
   "metadata": {},
   "source": [
    "**Importing Librarries**"
   ]
  },
  {
   "cell_type": "code",
   "execution_count": 2,
   "id": "3124d3e4-8d55-420f-b838-9771989e32d8",
   "metadata": {
    "tags": []
   },
   "outputs": [
    {
     "name": "stdout",
     "output_type": "stream",
     "text": [
      "Collecting nbformat==5.2.0\n",
      "  Obtaining dependency information for nbformat==5.2.0 from https://files.pythonhosted.org/packages/d0/53/95205a26fa0e13d110e343137292adf828b3cd07c3498a5b650d4c0b9be7/nbformat-5.2.0-py3-none-any.whl.metadata\n",
      "  Downloading nbformat-5.2.0-py3-none-any.whl.metadata (1.4 kB)\n",
      "Requirement already satisfied: traitlets>=4.1 in c:\\users\\ramez\\anaconda3\\lib\\site-packages (from nbformat==5.2.0) (5.7.1)\n",
      "Requirement already satisfied: jsonschema!=2.5.0,>=2.4 in c:\\users\\ramez\\anaconda3\\lib\\site-packages (from nbformat==5.2.0) (4.17.3)\n",
      "Requirement already satisfied: jupyter-core in c:\\users\\ramez\\anaconda3\\lib\\site-packages (from nbformat==5.2.0) (5.3.0)\n",
      "Requirement already satisfied: attrs>=17.4.0 in c:\\users\\ramez\\anaconda3\\lib\\site-packages (from jsonschema!=2.5.0,>=2.4->nbformat==5.2.0) (22.1.0)\n",
      "Requirement already satisfied: pyrsistent!=0.17.0,!=0.17.1,!=0.17.2,>=0.14.0 in c:\\users\\ramez\\anaconda3\\lib\\site-packages (from jsonschema!=2.5.0,>=2.4->nbformat==5.2.0) (0.18.0)\n",
      "Requirement already satisfied: platformdirs>=2.5 in c:\\users\\ramez\\anaconda3\\lib\\site-packages (from jupyter-core->nbformat==5.2.0) (3.10.0)\n",
      "Requirement already satisfied: pywin32>=300 in c:\\users\\ramez\\anaconda3\\lib\\site-packages (from jupyter-core->nbformat==5.2.0) (305.1)\n",
      "Downloading nbformat-5.2.0-py3-none-any.whl (74 kB)\n",
      "   ---------------------------------------- 0.0/74.6 kB ? eta -:--:--\n",
      "   ----- ---------------------------------- 10.2/74.6 kB ? eta -:--:--\n",
      "   ----- ---------------------------------- 10.2/74.6 kB ? eta -:--:--\n",
      "   --------------------- ------------------ 41.0/74.6 kB 393.8 kB/s eta 0:00:01\n",
      "   ---------------------------------------- 74.6/74.6 kB 459.9 kB/s eta 0:00:00\n",
      "Installing collected packages: nbformat\n",
      "  Attempting uninstall: nbformat\n",
      "    Found existing installation: nbformat 5.1.1\n",
      "    Uninstalling nbformat-5.1.1:\n",
      "      Successfully uninstalled nbformat-5.1.1\n",
      "Successfully installed nbformat-5.2.0\n"
     ]
    },
    {
     "name": "stderr",
     "output_type": "stream",
     "text": [
      "ERROR: pip's dependency resolver does not currently take into account all the packages that are installed. This behaviour is the source of the following dependency conflicts.\n",
      "conda-repo-cli 1.0.75 requires requests_mock, which is not installed.\n",
      "conda-repo-cli 1.0.75 requires clyent==1.2.1, but you have clyent 1.2.2 which is incompatible.\n",
      "conda-repo-cli 1.0.75 requires nbformat==5.9.2, but you have nbformat 5.2.0 which is incompatible.\n",
      "conda-repo-cli 1.0.75 requires PyYAML==6.0.1, but you have pyyaml 6.0 which is incompatible.\n"
     ]
    }
   ],
   "source": [
    "import pandas as pd\n",
    "import numpy as np\n",
    "import matplotlib.pyplot as plt\n",
    "import seaborn as sns\n",
    "!pip install nbformat==5.2.0"
   ]
  },
  {
   "cell_type": "code",
   "execution_count": null,
   "id": "0c5db1f0-b9f3-4df8-b18b-561393874cdf",
   "metadata": {},
   "outputs": [],
   "source": []
  },
  {
   "cell_type": "markdown",
   "id": "bafafa54-7547-4734-9850-f6f51799da96",
   "metadata": {},
   "source": [
    "**Importing, Inspecting & Cleaning the dataset**"
   ]
  },
  {
   "cell_type": "code",
   "execution_count": 2,
   "id": "49f4264a-20d2-4a0d-95a1-99223bb9ff25",
   "metadata": {
    "tags": []
   },
   "outputs": [
    {
     "name": "stderr",
     "output_type": "stream",
     "text": [
      "C:\\Users\\Ramez-PC\\AppData\\Local\\Temp\\ipykernel_2160\\582844275.py:3: DtypeWarning: Columns (9,10,11,12,13) have mixed types. Specify dtype option on import or set low_memory=False.\n",
      "  df=pd.read_csv(r\"C:\\Users\\Ramez-PC\\Downloads\\1- datasets\\Realestate Records\\US_real_Estate_Sales.csv\")\n"
     ]
    },
    {
     "data": {
      "text/html": [
       "<div>\n",
       "<style scoped>\n",
       "    .dataframe tbody tr th:only-of-type {\n",
       "        vertical-align: middle;\n",
       "    }\n",
       "\n",
       "    .dataframe tbody tr th {\n",
       "        vertical-align: top;\n",
       "    }\n",
       "\n",
       "    .dataframe thead th {\n",
       "        text-align: right;\n",
       "    }\n",
       "</style>\n",
       "<table border=\"1\" class=\"dataframe\">\n",
       "  <thead>\n",
       "    <tr style=\"text-align: right;\">\n",
       "      <th></th>\n",
       "      <th>Unnamed: 0</th>\n",
       "      <th>Serial Number</th>\n",
       "      <th>List Year</th>\n",
       "      <th>Date Recorded</th>\n",
       "      <th>Town</th>\n",
       "      <th>Address</th>\n",
       "      <th>Assessed Value</th>\n",
       "      <th>Sale Amount</th>\n",
       "      <th>Sales Ratio</th>\n",
       "      <th>Property Type</th>\n",
       "      <th>Residential Type</th>\n",
       "      <th>Non Use Code</th>\n",
       "      <th>Assessor Remarks</th>\n",
       "      <th>OPM remarks</th>\n",
       "      <th>Location</th>\n",
       "    </tr>\n",
       "  </thead>\n",
       "  <tbody>\n",
       "    <tr>\n",
       "      <th>0</th>\n",
       "      <td>0</td>\n",
       "      <td>2020348</td>\n",
       "      <td>2020</td>\n",
       "      <td>09/13/2021</td>\n",
       "      <td>Ansonia</td>\n",
       "      <td>230 WAKELEE AVE</td>\n",
       "      <td>150500</td>\n",
       "      <td>325000.0</td>\n",
       "      <td>0.4630</td>\n",
       "      <td>Commercial</td>\n",
       "      <td>NaN</td>\n",
       "      <td>NaN</td>\n",
       "      <td>NaN</td>\n",
       "      <td>NaN</td>\n",
       "      <td>NaN</td>\n",
       "    </tr>\n",
       "    <tr>\n",
       "      <th>1</th>\n",
       "      <td>1</td>\n",
       "      <td>20002</td>\n",
       "      <td>2020</td>\n",
       "      <td>2020-02-10 00:00:00</td>\n",
       "      <td>Ashford</td>\n",
       "      <td>390 TURNPIKE RD</td>\n",
       "      <td>253000</td>\n",
       "      <td>430000.0</td>\n",
       "      <td>0.5883</td>\n",
       "      <td>Residential</td>\n",
       "      <td>Single Family</td>\n",
       "      <td>NaN</td>\n",
       "      <td>NaN</td>\n",
       "      <td>NaN</td>\n",
       "      <td>NaN</td>\n",
       "    </tr>\n",
       "    <tr>\n",
       "      <th>2</th>\n",
       "      <td>2</td>\n",
       "      <td>200212</td>\n",
       "      <td>2020</td>\n",
       "      <td>2021-09-03 00:00:00</td>\n",
       "      <td>Avon</td>\n",
       "      <td>5 CHESTNUT DRIVE</td>\n",
       "      <td>130400</td>\n",
       "      <td>179900.0</td>\n",
       "      <td>0.7248</td>\n",
       "      <td>Residential</td>\n",
       "      <td>Condo</td>\n",
       "      <td>NaN</td>\n",
       "      <td>NaN</td>\n",
       "      <td>NaN</td>\n",
       "      <td>NaN</td>\n",
       "    </tr>\n",
       "    <tr>\n",
       "      <th>3</th>\n",
       "      <td>3</td>\n",
       "      <td>200243</td>\n",
       "      <td>2020</td>\n",
       "      <td>04/13/2021</td>\n",
       "      <td>Avon</td>\n",
       "      <td>111 NORTHINGTON DRIVE</td>\n",
       "      <td>619290</td>\n",
       "      <td>890000.0</td>\n",
       "      <td>0.6958</td>\n",
       "      <td>Residential</td>\n",
       "      <td>Single Family</td>\n",
       "      <td>NaN</td>\n",
       "      <td>NaN</td>\n",
       "      <td>NaN</td>\n",
       "      <td>NaN</td>\n",
       "    </tr>\n",
       "    <tr>\n",
       "      <th>4</th>\n",
       "      <td>4</td>\n",
       "      <td>200377</td>\n",
       "      <td>2020</td>\n",
       "      <td>2021-02-07 00:00:00</td>\n",
       "      <td>Avon</td>\n",
       "      <td>70 FAR HILLS DRIVE</td>\n",
       "      <td>862330</td>\n",
       "      <td>1447500.0</td>\n",
       "      <td>0.5957</td>\n",
       "      <td>Residential</td>\n",
       "      <td>Single Family</td>\n",
       "      <td>NaN</td>\n",
       "      <td>NaN</td>\n",
       "      <td>NaN</td>\n",
       "      <td>NaN</td>\n",
       "    </tr>\n",
       "  </tbody>\n",
       "</table>\n",
       "</div>"
      ],
      "text/plain": [
       "   Unnamed: 0  Serial Number  List Year        Date Recorded     Town  \\\n",
       "0           0        2020348       2020           09/13/2021  Ansonia   \n",
       "1           1          20002       2020  2020-02-10 00:00:00  Ashford   \n",
       "2           2         200212       2020  2021-09-03 00:00:00     Avon   \n",
       "3           3         200243       2020           04/13/2021     Avon   \n",
       "4           4         200377       2020  2021-02-07 00:00:00     Avon   \n",
       "\n",
       "                 Address  Assessed Value  Sale Amount  Sales Ratio  \\\n",
       "0        230 WAKELEE AVE          150500     325000.0       0.4630   \n",
       "1        390 TURNPIKE RD          253000     430000.0       0.5883   \n",
       "2       5 CHESTNUT DRIVE          130400     179900.0       0.7248   \n",
       "3  111 NORTHINGTON DRIVE          619290     890000.0       0.6958   \n",
       "4     70 FAR HILLS DRIVE          862330    1447500.0       0.5957   \n",
       "\n",
       "  Property Type Residential Type Non Use Code Assessor Remarks OPM remarks  \\\n",
       "0    Commercial              NaN          NaN              NaN         NaN   \n",
       "1   Residential    Single Family          NaN              NaN         NaN   \n",
       "2   Residential            Condo          NaN              NaN         NaN   \n",
       "3   Residential    Single Family          NaN              NaN         NaN   \n",
       "4   Residential    Single Family          NaN              NaN         NaN   \n",
       "\n",
       "  Location  \n",
       "0      NaN  \n",
       "1      NaN  \n",
       "2      NaN  \n",
       "3      NaN  \n",
       "4      NaN  "
      ]
     },
     "execution_count": 2,
     "metadata": {},
     "output_type": "execute_result"
    }
   ],
   "source": [
    "# importing the csv file to a dataframe df and printing the top 5 rows.\n",
    "\n",
    "df=pd.read_csv(r\"C:\\Users\\Ramez-PC\\Downloads\\1- datasets\\Realestate Records\\US_real_Estate_Sales.csv\")\n",
    "df.head()"
   ]
  },
  {
   "cell_type": "code",
   "execution_count": 3,
   "id": "f6be0912-fb12-43ce-8afe-38c0986aa957",
   "metadata": {
    "tags": []
   },
   "outputs": [
    {
     "data": {
      "text/plain": [
       "(997213, 15)"
      ]
     },
     "execution_count": 3,
     "metadata": {},
     "output_type": "execute_result"
    }
   ],
   "source": [
    "# Dataframe count of coulmns and rows\n",
    "\n",
    "df.shape"
   ]
  },
  {
   "cell_type": "code",
   "execution_count": 4,
   "id": "c07c631e-09b6-4a2c-9332-54b0753a0db5",
   "metadata": {
    "tags": []
   },
   "outputs": [
    {
     "data": {
      "text/plain": [
       "0"
      ]
     },
     "execution_count": 4,
     "metadata": {},
     "output_type": "execute_result"
    }
   ],
   "source": [
    "# Inspecting for duplicates\n",
    "\n",
    "df.duplicated().sum()"
   ]
  },
  {
   "cell_type": "code",
   "execution_count": 5,
   "id": "46581539-ed10-4af3-ab56-1b8945066572",
   "metadata": {
    "tags": []
   },
   "outputs": [
    {
     "data": {
      "text/plain": [
       "Unnamed: 0               0\n",
       "Serial Number            0\n",
       "List Year                0\n",
       "Date Recorded            2\n",
       "Town                     0\n",
       "Address                 51\n",
       "Assessed Value           0\n",
       "Sale Amount              0\n",
       "Sales Ratio              0\n",
       "Property Type       382446\n",
       "Residential Type    388309\n",
       "Non Use Code        707532\n",
       "Assessor Remarks    847359\n",
       "OPM remarks         987279\n",
       "Location            799516\n",
       "dtype: int64"
      ]
     },
     "execution_count": 5,
     "metadata": {},
     "output_type": "execute_result"
    }
   ],
   "source": [
    "# Inspecting Nulls.\n",
    "# I will remove the two rows without date.\n",
    "# I will not remove or fill address nulls as it is not as valuble as town column.\n",
    "\n",
    "df.isnull().sum()"
   ]
  },
  {
   "cell_type": "code",
   "execution_count": 6,
   "id": "6969b8f5-9955-4064-945d-aa6c7143410a",
   "metadata": {
    "tags": []
   },
   "outputs": [
    {
     "data": {
      "text/plain": [
       "(997211, 15)"
      ]
     },
     "execution_count": 6,
     "metadata": {},
     "output_type": "execute_result"
    }
   ],
   "source": [
    "# dropping the date column nulls\n",
    "\n",
    "df.dropna(subset=[\"Date Recorded\"],axis=0, inplace =True)\n",
    "df.shape  "
   ]
  },
  {
   "cell_type": "code",
   "execution_count": 7,
   "id": "5de041fa-a4a8-4228-a1bf-5a91ddbc2dcc",
   "metadata": {
    "tags": []
   },
   "outputs": [
    {
     "data": {
      "text/plain": [
       "Unnamed: 0                   int64\n",
       "Serial Number                int64\n",
       "List Year                   object\n",
       "Date Recorded       datetime64[ns]\n",
       "Town                        object\n",
       "Address                     object\n",
       "Assessed Value               int64\n",
       "Sale Amount                float64\n",
       "Sales Ratio                float64\n",
       "Property Type               object\n",
       "Residential Type            object\n",
       "Non Use Code                object\n",
       "Assessor Remarks            object\n",
       "OPM remarks                 object\n",
       "Location                    object\n",
       "dtype: object"
      ]
     },
     "execution_count": 7,
     "metadata": {},
     "output_type": "execute_result"
    }
   ],
   "source": [
    "# changing the data type for columns year and date\n",
    "\n",
    "df['List Year']=df['List Year'].astype(str)\n",
    "df['Date Recorded'] = pd.to_datetime(df['Date Recorded'])\n",
    "df.dtypes"
   ]
  },
  {
   "cell_type": "code",
   "execution_count": 8,
   "id": "eca65079-87a4-4099-8879-3478d1c49101",
   "metadata": {
    "tags": []
   },
   "outputs": [
    {
     "data": {
      "image/png": "[encoded data removed]",
      "text/plain": [
       "<Figure size 2000x1000 with 3 Axes>"
      ]
     },
     "metadata": {},
     "output_type": "display_data"
    }
   ],
   "source": [
    "# Creating boxplots for columns with numerical values\n",
    "\n",
    "# Set style for all graphs\n",
    "sns.set_style(\"whitegrid\")\n",
    "\n",
    "# Create a grid of subplots\n",
    "fig, axs = plt.subplots(ncols=3, figsize=(20, 10))\n",
    "\n",
    "# Plot distributions of Assessed Value, Sale Amount and Sales Ratio,\n",
    "for ax, column in zip(axs, ['Assessed Value', 'Sale Amount', 'Sales Ratio']):\n",
    "    \n",
    "    data = df[column]\n",
    "    \n",
    "    # Creating the boxplot\n",
    "    sns.boxplot(data=data, ax=ax)\n",
    "    \n",
    "    # Set the title\n",
    "    ax.set_title(f'Distribution of {column}')\n",
    "\n",
    "plt.tight_layout()\n",
    "plt.show()"
   ]
  },
  {
   "cell_type": "markdown",
   "id": "489eb364-2854-40ae-a746-0b241098fe36",
   "metadata": {},
   "source": [
    "See how the quartiles and median of the boxplots can't be seen as the data is widely distributed and there are many outliers."
   ]
  },
  {
   "cell_type": "code",
   "execution_count": 9,
   "id": "37bac4dd-b6ba-4e4e-8a60-a5ac2db442ca",
   "metadata": {
    "tags": []
   },
   "outputs": [
    {
     "name": "stdout",
     "output_type": "stream",
     "text": [
      "Sales Ratio Mean is: 10.44639458285245\n",
      "Sales Ratio Median is 0.6246\n"
     ]
    }
   ],
   "source": [
    "# A very wide gap between Mean and Median.\n",
    "\n",
    "print('Sales Ratio Mean is:',df['Sales Ratio'].mean())\n",
    "print('Sales Ratio Median is',df['Sales Ratio'].median())"
   ]
  },
  {
   "cell_type": "code",
   "execution_count": null,
   "id": "77401b9f-8972-4ebc-843c-16244754e8dd",
   "metadata": {},
   "outputs": [],
   "source": []
  },
  {
   "cell_type": "markdown",
   "id": "f43ef407-7510-4f7d-8fcc-91166e9ca7c0",
   "metadata": {
    "tags": []
   },
   "source": [
    "**method 1: Fixing some outliers**"
   ]
  },
  {
   "cell_type": "markdown",
   "id": "66f9dc03-d684-4caf-b990-cf17baa75327",
   "metadata": {},
   "source": [
    "1- I will remove the rows that have both Assessed value and Sale amount at zero."
   ]
  },
  {
   "cell_type": "code",
   "execution_count": 10,
   "id": "1115c1cb-acf6-4b4c-8570-7880499e1872",
   "metadata": {
    "tags": []
   },
   "outputs": [
    {
     "data": {
      "text/plain": [
       "(996926, 15)"
      ]
     },
     "execution_count": 10,
     "metadata": {},
     "output_type": "execute_result"
    }
   ],
   "source": [
    "# making a new column by summing both columns assessed and sale values\n",
    "df['temp']=df['Assessed Value']+df['Sale Amount']\n",
    "\n",
    "df = df[df.temp > 0] # Removing the rows with values 0\n",
    "\n",
    "del df['temp'] # deleting the temporary column\n",
    "\n",
    "df.shape"
   ]
  },
  {
   "cell_type": "markdown",
   "id": "6d6cab3d-a1a3-4362-9cb8-42bb013c9603",
   "metadata": {},
   "source": [
    "2- Replacing the outliers of Sales ratio with the median value"
   ]
  },
  {
   "cell_type": "raw",
   "id": "26ae35b4-5303-4c42-9d89-fe84c8ea6e16",
   "metadata": {},
   "source": [
    "This step will change the unrealistic values of the sales ratio to a more reasonable value and it will help with changing some values of assessed and sale amount "
   ]
  },
  {
   "cell_type": "code",
   "execution_count": 11,
   "id": "6f4a11f2-07b2-436d-bfcf-ca99165d440e",
   "metadata": {
    "tags": []
   },
   "outputs": [
    {
     "data": {
      "text/plain": [
       "1.233175407"
      ]
     },
     "execution_count": 11,
     "metadata": {},
     "output_type": "execute_result"
    }
   ],
   "source": [
    "# Defining the variables needed to find and change outliers .\n",
    "\n",
    "Q1_SR = df['Sales Ratio'].quantile(0.25) # first quartile\n",
    "Q2_SR = df['Sales Ratio'].quantile(0.50) # second quartile 'median'\n",
    "Q3_SR = df['Sales Ratio'].quantile(0.75) # third quartile\n",
    "IQR_SR = Q3_SR - Q1_SR                   # interquartile range\n",
    "upper_SR = Q3_SR + (1.5 * IQR_SR)        # upper limit of the data 'max'\n",
    "lower_SR = Q1_SR - (1.5 * IQR_SR)        # lower limit of data 'min'\n",
    "upper_SR"
   ]
  },
  {
   "cell_type": "code",
   "execution_count": 12,
   "id": "c00aed84-2b20-4a40-800a-3c3b4b811b19",
   "metadata": {
    "tags": []
   },
   "outputs": [
    {
     "name": "stdout",
     "output_type": "stream",
     "text": [
      "Outliers count for sales ratio is :  99861\n"
     ]
    }
   ],
   "source": [
    "# How many sales ratio outliers we have?\n",
    "\n",
    "print('Outliers count for sales ratio is : ', \n",
    "      ( (df['Sales Ratio'] < (Q1_SR - 1.5*IQR_SR)).sum()) \n",
    "      + (df['Sales Ratio'] > (Q3_SR + 1.5*IQR_SR)).sum())"
   ]
  },
  {
   "cell_type": "code",
   "execution_count": 13,
   "id": "fd8e35c5-854a-439d-99b0-ba796621e93d",
   "metadata": {
    "tags": []
   },
   "outputs": [],
   "source": [
    "# Changing values higher than max with more reasonable value 'median'.\n",
    "df[\"Sales Ratio\"] = np.where(df[\"Sales Ratio\"] > upper_SR,Q2_SR,df[\"Sales Ratio\"])\n",
    "\n",
    "# Changing values below min with median.\n",
    "df['Sales Ratio'] = np.where(df['Sales Ratio'] < lower_SR, Q2_SR, df['Sales Ratio'])"
   ]
  },
  {
   "cell_type": "code",
   "execution_count": 14,
   "id": "8ddfb3db-75fb-4888-8ea1-41eaadd4edfa",
   "metadata": {
    "tags": []
   },
   "outputs": [
    {
     "name": "stdout",
     "output_type": "stream",
     "text": [
      "Outliers count for sales ratio is :  0\n"
     ]
    }
   ],
   "source": [
    "# Now outliers are zero\n",
    "\n",
    "print('Outliers count for sales ratio is : ', \n",
    "      ( (df['Sales Ratio'] < (Q1_SR - 1.5*IQR_SR)).sum()) \n",
    "      + (df['Sales Ratio'] > (Q3_SR + 1.5*IQR_SR)).sum())"
   ]
  },
  {
   "cell_type": "code",
   "execution_count": 15,
   "id": "d94d61de-2173-486c-8189-704933e7f5e0",
   "metadata": {
    "tags": []
   },
   "outputs": [
    {
     "name": "stdout",
     "output_type": "stream",
     "text": [
      "New Sales Ratio Mean is: 0.6167223537580597\n",
      "Sales Ratio Median is: 0.6246822295000001\n"
     ]
    }
   ],
   "source": [
    "# Slight gap between median and mode after the cleaning. \n",
    "\n",
    "print('New Sales Ratio Mean is:',df['Sales Ratio'].mean())\n",
    "print('Sales Ratio Median is:',df['Sales Ratio'].median())"
   ]
  },
  {
   "cell_type": "code",
   "execution_count": 16,
   "id": "fd9e64ee-e943-46e7-a25c-5c7b9397ca1f",
   "metadata": {
    "tags": []
   },
   "outputs": [
    {
     "data": {
      "text/plain": [
       "(996926, 17)"
      ]
     },
     "execution_count": 16,
     "metadata": {},
     "output_type": "execute_result"
    }
   ],
   "source": [
    "# Creating two temporary columns of Sale amount and Assessed value.\n",
    "# In here, sales ratio values were cleaned so using it will clean some outliers.\n",
    "\n",
    "df['Sale_Amount_Temp']=df['Assessed Value']/df['Sales Ratio']\n",
    "df['Assessed_Value_Temp']=df['Sale Amount']*df['Sales Ratio']\n",
    "df.shape"
   ]
  },
  {
   "cell_type": "markdown",
   "id": "ff37c8db-0105-49d7-9996-24eec193825d",
   "metadata": {},
   "source": [
    "3- Replacing some Assessed and sale values before removing outliers."
   ]
  },
  {
   "cell_type": "code",
   "execution_count": 17,
   "id": "2180d5dc-d8bf-4ce0-96ce-93ffdcc7b9d5",
   "metadata": {
    "tags": []
   },
   "outputs": [
    {
     "data": {
      "text/plain": [
       "(996926, 17)"
      ]
     },
     "execution_count": 17,
     "metadata": {},
     "output_type": "execute_result"
    }
   ],
   "source": [
    "\"\"\"\n",
    "Replacing the Sale and Assessed values that are less than 10k with the corresponding value from the temporary\n",
    "columns, that will fix some values as it is not logical to sell a property with such low price.\n",
    "\"\"\"\n",
    "\n",
    "df.loc[df['Sale Amount'] <= 10000 , 'Sale Amount'] = df.loc[df['Sale Amount'] <= 10000 , 'Sale_Amount_Temp']\n",
    "df.loc[df['Assessed Value'] <= 10000 , 'Assessed Value'] = df.loc[df['Assessed Value'] <= 10000 , 'Assessed_Value_Temp']\n",
    "df.shape"
   ]
  },
  {
   "cell_type": "code",
   "execution_count": 18,
   "id": "16a29c37-bc08-499e-b366-ff4cc076d4a0",
   "metadata": {
    "tags": []
   },
   "outputs": [
    {
     "data": {
      "text/plain": [
       "(988757, 17)"
      ]
     },
     "execution_count": 18,
     "metadata": {},
     "output_type": "execute_result"
    }
   ],
   "source": [
    "# Removing the rows That still has 0 values.\n",
    "\n",
    "df = df[df.Sale_Amount_Temp > 0]\n",
    "df = df[df.Assessed_Value_Temp > 0]\n",
    "df.shape"
   ]
  },
  {
   "cell_type": "code",
   "execution_count": 21,
   "id": "1b0ceedc-a60a-4144-a35b-e5d714107915",
   "metadata": {
    "tags": []
   },
   "outputs": [
    {
     "name": "stdout",
     "output_type": "stream",
     "text": [
      "Outliers count for Sale Amount is :  82215\n"
     ]
    },
    {
     "data": {
      "text/plain": [
       "701750.0"
      ]
     },
     "execution_count": 21,
     "metadata": {},
     "output_type": "execute_result"
    }
   ],
   "source": [
    "# Defining the variables needed to find and change outliers.\n",
    "\n",
    "Q1_SA = df['Sale Amount'].quantile(0.25) # first quartile\n",
    "Q3_SA = df['Sale Amount'].quantile(0.75) # third quartile\n",
    "IQR_SA = Q3_SA - Q1_SA                   # interquartile range\n",
    "upper_SA = Q3_SA + (1.5 * IQR_SA)        # max\n",
    "lower_SA = Q1_SA - (1.5 * IQR_SA)        # min\n",
    "\n",
    "# finding outliers count.\n",
    "print('Outliers count for Sale Amount is : ',\n",
    "      ( (df['Sale Amount'] < (Q1_SA - 1.5 * IQR_SA)).sum()) \n",
    "      + (df['Sale Amount'] > (Q3_SA + 1.5 * IQR_SA)).sum())\n",
    "upper_SA"
   ]
  },
  {
   "cell_type": "code",
   "execution_count": 20,
   "id": "dd452ad9-d503-4711-92bc-1b53b5d1489f",
   "metadata": {
    "tags": []
   },
   "outputs": [],
   "source": [
    "# Replacing the values higher than max with its corresponding values from the temporary column.\n",
    "# After that i must run the above code again as some outliers were fixed.\n",
    "\n",
    "df.loc[df['Sale Amount'] > upper_SA , 'Sale Amount'] = df.loc[df['Sale Amount'] > upper_SA , 'Sale_Amount_Temp']"
   ]
  },
  {
   "cell_type": "code",
   "execution_count": 22,
   "id": "f71ac2a0-0306-4ba0-91ab-625bdd0ec822",
   "metadata": {
    "tags": []
   },
   "outputs": [
    {
     "data": {
      "text/plain": [
       "(906542, 17)"
      ]
     },
     "execution_count": 22,
     "metadata": {},
     "output_type": "execute_result"
    }
   ],
   "source": [
    "# Removing outliers.\n",
    "\n",
    "df=df[(df['Sale Amount'] > (Q1_SA - 1.5 * IQR_SA)) & (df['Sale Amount'] < (Q3_SA + 1.5 * IQR_SA))]\n",
    "df.shape"
   ]
  },
  {
   "cell_type": "code",
   "execution_count": 25,
   "id": "b399319b-6ec8-4822-b14a-0725023bf815",
   "metadata": {
    "tags": []
   },
   "outputs": [
    {
     "name": "stdout",
     "output_type": "stream",
     "text": [
      "Outliers count for Assessed Value is :  34744\n"
     ]
    },
    {
     "data": {
      "text/plain": [
       "359295.0"
      ]
     },
     "execution_count": 25,
     "metadata": {},
     "output_type": "execute_result"
    }
   ],
   "source": [
    "# Defining the variables needed to find and change outliers.\n",
    "\n",
    "Q1_AV = df['Assessed Value'].quantile(0.25)\n",
    "Q3_AV = df['Assessed Value'].quantile(0.75)\n",
    "IQR_AV = Q3_AV - Q1_AV\n",
    "upper_AV = Q3_AV + (1.5 * IQR_AV)\n",
    "lower_AV = Q1_AV - (1.5 * IQR_AV)\n",
    "print('Outliers count for Assessed Value is : ', \n",
    "      ( (df['Assessed Value'] < (Q1_AV - 1.5 * IQR_AV)).sum()) \n",
    "      + (df['Assessed Value'] > (Q3_AV + 1.5 * IQR_AV)).sum())\n",
    "upper_AV"
   ]
  },
  {
   "cell_type": "code",
   "execution_count": 24,
   "id": "7f8da344-1ef1-4bfd-a104-c1d8154b64ff",
   "metadata": {},
   "outputs": [],
   "source": [
    "# Replacing the values higher than max with its corresponding values from the temporary column.\n",
    "# After that i must run the above code again as some outliers were fixed.\n",
    "\n",
    "df.loc[df['Assessed Value'] > upper_AV , 'Assessed Value'] = df.loc[df['Assessed Value'] > upper_AV , 'Assessed_Value_Temp']"
   ]
  },
  {
   "cell_type": "code",
   "execution_count": 26,
   "id": "014bc858-513b-400a-8f25-b815e6c29bc7",
   "metadata": {},
   "outputs": [
    {
     "data": {
      "text/plain": [
       "(871798, 17)"
      ]
     },
     "execution_count": 26,
     "metadata": {},
     "output_type": "execute_result"
    }
   ],
   "source": [
    "# removing remaining outliers.\n",
    "\n",
    "df=df[(df['Assessed Value'] > (Q1_AV - 1.5 * IQR_AV)) & (df['Assessed Value'] < (Q3_AV + 1.5 * IQR_AV))]\n",
    "df.shape"
   ]
  },
  {
   "cell_type": "code",
   "execution_count": 27,
   "id": "8116e39e-f903-4f50-b98b-bc3360efa017",
   "metadata": {
    "tags": []
   },
   "outputs": [
    {
     "data": {
      "image/png": "[encoded data removed]",
      "text/plain": [
       "<Figure size 2000x1000 with 3 Axes>"
      ]
     },
     "metadata": {},
     "output_type": "display_data"
    }
   ],
   "source": [
    "# Running the boxplot again to see the result.\n",
    "\n",
    "# Set style for all graphs\n",
    "sns.set_style(\"whitegrid\")\n",
    "\n",
    "# Create a grid of subplots\n",
    "fig, axs = plt.subplots(ncols=3, figsize=(20, 10))\n",
    "\n",
    "# Plot distributions of Assessed and sale values and Sales ratio\n",
    "for ax, column in zip(axs, ['Assessed Value', 'Sale Amount', 'Sales Ratio']):\n",
    "\n",
    "    data = df[column]\n",
    "    \n",
    "    # Create the boxplot\n",
    "    sns.boxplot(data=data, ax=ax)\n",
    "    \n",
    "    # Set the title\n",
    "    ax.set_title(f'Distribution of {column}')\n",
    "\n",
    "plt.tight_layout()\n",
    "plt.show()"
   ]
  },
  {
   "cell_type": "code",
   "execution_count": 28,
   "id": "7ed23ccc-65e5-4d87-bbd4-c2c7166e66d9",
   "metadata": {
    "tags": []
   },
   "outputs": [
    {
     "data": {
      "text/plain": [
       "(871798, 15)"
      ]
     },
     "execution_count": 28,
     "metadata": {},
     "output_type": "execute_result"
    }
   ],
   "source": [
    "# Removing the temporary columns.\n",
    "\n",
    "del df['Sale_Amount_Temp']\n",
    "del df['Assessed_Value_Temp']\n",
    "\n",
    "df.shape"
   ]
  },
  {
   "cell_type": "code",
   "execution_count": 29,
   "id": "f07b4c37-0c05-418e-b44a-4b7daa2343f2",
   "metadata": {
    "tags": []
   },
   "outputs": [
    {
     "data": {
      "text/html": [
       "<div>\n",
       "<style scoped>\n",
       "    .dataframe tbody tr th:only-of-type {\n",
       "        vertical-align: middle;\n",
       "    }\n",
       "\n",
       "    .dataframe tbody tr th {\n",
       "        vertical-align: top;\n",
       "    }\n",
       "\n",
       "    .dataframe thead th {\n",
       "        text-align: right;\n",
       "    }\n",
       "</style>\n",
       "<table border=\"1\" class=\"dataframe\">\n",
       "  <thead>\n",
       "    <tr style=\"text-align: right;\">\n",
       "      <th></th>\n",
       "      <th>Unnamed: 0</th>\n",
       "      <th>Serial Number</th>\n",
       "      <th>Assessed Value</th>\n",
       "      <th>Sale Amount</th>\n",
       "      <th>Sales Ratio</th>\n",
       "    </tr>\n",
       "  </thead>\n",
       "  <tbody>\n",
       "    <tr>\n",
       "      <th>count</th>\n",
       "      <td>871798.000000</td>\n",
       "      <td>8.717980e+05</td>\n",
       "      <td>871798.000000</td>\n",
       "      <td>871798.000000</td>\n",
       "      <td>871798.000000</td>\n",
       "    </tr>\n",
       "    <tr>\n",
       "      <th>mean</th>\n",
       "      <td>495181.099721</td>\n",
       "      <td>4.338542e+05</td>\n",
       "      <td>138731.698188</td>\n",
       "      <td>226111.646826</td>\n",
       "      <td>0.612920</td>\n",
       "    </tr>\n",
       "    <tr>\n",
       "      <th>std</th>\n",
       "      <td>288579.980038</td>\n",
       "      <td>6.753815e+06</td>\n",
       "      <td>76637.147203</td>\n",
       "      <td>132005.488710</td>\n",
       "      <td>0.196663</td>\n",
       "    </tr>\n",
       "    <tr>\n",
       "      <th>min</th>\n",
       "      <td>0.000000</td>\n",
       "      <td>8.100000e+01</td>\n",
       "      <td>0.624682</td>\n",
       "      <td>1.600814</td>\n",
       "      <td>0.039019</td>\n",
       "    </tr>\n",
       "    <tr>\n",
       "      <th>25%</th>\n",
       "      <td>242491.250000</td>\n",
       "      <td>3.035400e+04</td>\n",
       "      <td>82460.000000</td>\n",
       "      <td>130000.000000</td>\n",
       "      <td>0.490840</td>\n",
       "    </tr>\n",
       "    <tr>\n",
       "      <th>50%</th>\n",
       "      <td>491484.500000</td>\n",
       "      <td>7.016600e+04</td>\n",
       "      <td>125540.000000</td>\n",
       "      <td>204000.000000</td>\n",
       "      <td>0.624682</td>\n",
       "    </tr>\n",
       "    <tr>\n",
       "      <th>75%</th>\n",
       "      <td>747622.750000</td>\n",
       "      <td>1.509080e+05</td>\n",
       "      <td>184380.000000</td>\n",
       "      <td>300000.000000</td>\n",
       "      <td>0.709279</td>\n",
       "    </tr>\n",
       "    <tr>\n",
       "      <th>max</th>\n",
       "      <td>997211.000000</td>\n",
       "      <td>2.000500e+09</td>\n",
       "      <td>359290.000000</td>\n",
       "      <td>701749.999583</td>\n",
       "      <td>1.233167</td>\n",
       "    </tr>\n",
       "  </tbody>\n",
       "</table>\n",
       "</div>"
      ],
      "text/plain": [
       "          Unnamed: 0  Serial Number  Assessed Value    Sale Amount  \\\n",
       "count  871798.000000   8.717980e+05   871798.000000  871798.000000   \n",
       "mean   495181.099721   4.338542e+05   138731.698188  226111.646826   \n",
       "std    288579.980038   6.753815e+06    76637.147203  132005.488710   \n",
       "min         0.000000   8.100000e+01        0.624682       1.600814   \n",
       "25%    242491.250000   3.035400e+04    82460.000000  130000.000000   \n",
       "50%    491484.500000   7.016600e+04   125540.000000  204000.000000   \n",
       "75%    747622.750000   1.509080e+05   184380.000000  300000.000000   \n",
       "max    997211.000000   2.000500e+09   359290.000000  701749.999583   \n",
       "\n",
       "         Sales Ratio  \n",
       "count  871798.000000  \n",
       "mean        0.612920  \n",
       "std         0.196663  \n",
       "min         0.039019  \n",
       "25%         0.490840  \n",
       "50%         0.624682  \n",
       "75%         0.709279  \n",
       "max         1.233167  "
      ]
     },
     "execution_count": 29,
     "metadata": {},
     "output_type": "execute_result"
    }
   ],
   "source": [
    "df.describe()"
   ]
  },
  {
   "cell_type": "code",
   "execution_count": 30,
   "id": "63bffd76-36ee-497d-946d-41d050268c34",
   "metadata": {},
   "outputs": [],
   "source": [
    "# Saving the result dataframe into a new CSV file for furtur use.\n",
    "\n",
    "df.to_csv('Real_estate_cleaned.csv')"
   ]
  },
  {
   "cell_type": "markdown",
   "id": "f3c3fb7c-8d10-45b8-93ca-c6b9b9d8f5d1",
   "metadata": {},
   "source": [
    "  "
   ]
  },
  {
   "cell_type": "markdown",
   "id": "af98faec-68eb-4ce7-a48c-a2419428989c",
   "metadata": {},
   "source": [
    "  "
   ]
  },
  {
   "cell_type": "markdown",
   "id": "c931f269-b9db-4513-aa14-e6b290767a2a",
   "metadata": {},
   "source": [
    " "
   ]
  },
  {
   "cell_type": "markdown",
   "id": "d0f51cf4-4248-4b8a-8912-2e3f484ee74a",
   "metadata": {},
   "source": [
    "**method 2: Removing all outliers**"
   ]
  },
  {
   "cell_type": "code",
   "execution_count": 31,
   "id": "b1cebfe7-1487-4237-8e5e-d2d3ce586ef6",
   "metadata": {
    "tags": []
   },
   "outputs": [
    {
     "name": "stderr",
     "output_type": "stream",
     "text": [
      "C:\\Users\\Ramez-PC\\AppData\\Local\\Temp\\ipykernel_2160\\403034144.py:1: DtypeWarning: Columns (9,10,11,12,13) have mixed types. Specify dtype option on import or set low_memory=False.\n",
      "  df2=pd.read_csv(r\"C:\\Users\\Ramez-PC\\Downloads\\1- datasets\\Realestate Records\\US_real_Estate_Sales.csv\")\n"
     ]
    },
    {
     "data": {
      "text/plain": [
       "(997213, 15)"
      ]
     },
     "execution_count": 31,
     "metadata": {},
     "output_type": "execute_result"
    }
   ],
   "source": [
    "df2=pd.read_csv(r\"C:\\Users\\Ramez-PC\\Downloads\\1- datasets\\Realestate Records\\US_real_Estate_Sales.csv\")\n",
    "df2.shape "
   ]
  },
  {
   "cell_type": "code",
   "execution_count": 32,
   "id": "35030b4f-7f39-4b95-9e96-8352e03740f5",
   "metadata": {
    "tags": []
   },
   "outputs": [
    {
     "data": {
      "text/plain": [
       "(997211, 15)"
      ]
     },
     "execution_count": 32,
     "metadata": {},
     "output_type": "execute_result"
    }
   ],
   "source": [
    "df2.dropna(subset=[\"Date Recorded\"],axis=0, inplace =True)\n",
    "df2.shape  "
   ]
  },
  {
   "cell_type": "code",
   "execution_count": 33,
   "id": "937cccbb-a0c2-4e90-bb25-a7388cca0559",
   "metadata": {
    "tags": []
   },
   "outputs": [
    {
     "data": {
      "text/plain": [
       "Unnamed: 0                   int64\n",
       "Serial Number                int64\n",
       "List Year                   object\n",
       "Date Recorded       datetime64[ns]\n",
       "Town                        object\n",
       "Address                     object\n",
       "Assessed Value               int64\n",
       "Sale Amount                float64\n",
       "Sales Ratio                float64\n",
       "Property Type               object\n",
       "Residential Type            object\n",
       "Non Use Code                object\n",
       "Assessor Remarks            object\n",
       "OPM remarks                 object\n",
       "Location                    object\n",
       "dtype: object"
      ]
     },
     "execution_count": 33,
     "metadata": {},
     "output_type": "execute_result"
    }
   ],
   "source": [
    "df2['List Year']=df2['List Year'].astype(str)\n",
    "df2['Date Recorded'] = pd.to_datetime(df2['Date Recorded'])\n",
    "df2.dtypes"
   ]
  },
  {
   "cell_type": "code",
   "execution_count": 34,
   "id": "8ffba6a2-7081-49b1-ab9c-72a841259248",
   "metadata": {
    "tags": []
   },
   "outputs": [
    {
     "data": {
      "image/png": "[encoded data removed]",
      "text/plain": [
       "<Figure size 2000x1000 with 3 Axes>"
      ]
     },
     "metadata": {},
     "output_type": "display_data"
    }
   ],
   "source": [
    "# Set style for all graphs\n",
    "sns.set_style(\"whitegrid\")\n",
    "\n",
    "# Create a grid of subplots\n",
    "fig, axs = plt.subplots(ncols=3, figsize=(20, 10))\n",
    "\n",
    "# Plot distributions of Assessed & sale values and sales ratio\n",
    "for ax, column in zip(axs, ['Assessed Value', 'Sale Amount', 'Sales Ratio']):\n",
    "\n",
    "    data = df2[column]\n",
    "    \n",
    "    # Create the boxplot\n",
    "    sns.boxplot(data=data, ax=ax)\n",
    "    \n",
    "    # Set the title\n",
    "    ax.set_title(f'Distribution of {column}')\n",
    "\n",
    "plt.tight_layout()\n",
    "plt.show()"
   ]
  },
  {
   "cell_type": "code",
   "execution_count": 35,
   "id": "eb042276-3348-493f-b92d-a6fff79b2ad7",
   "metadata": {},
   "outputs": [
    {
     "name": "stdout",
     "output_type": "stream",
     "text": [
      "Outliers count for Assessed Value is :  90623\n"
     ]
    }
   ],
   "source": [
    "Q1AV = df2['Assessed Value'].quantile(0.25)\n",
    "Q2AV = df2['Assessed Value'].quantile(0.50)\n",
    "Q3AV = df2['Assessed Value'].quantile(0.75)\n",
    "IQRAV = Q3AV - Q1AV\n",
    "upperAV = Q3AV + (1.5 * IQRAV)\n",
    "lowerAV = Q1AV - (1.5 * IQRAV)\n",
    "print('Outliers count for Assessed Value is : ', \n",
    "      ( (df2['Assessed Value'] < (Q1AV - 1.5 * IQRAV)).sum()) \n",
    "      + (df2['Assessed Value'] > (Q3AV + 1.5*IQRAV)).sum())"
   ]
  },
  {
   "cell_type": "code",
   "execution_count": 36,
   "id": "487c299d-9ed7-474d-9875-d3c104aef13f",
   "metadata": {
    "tags": []
   },
   "outputs": [
    {
     "data": {
      "text/plain": [
       "(906583, 15)"
      ]
     },
     "execution_count": 36,
     "metadata": {},
     "output_type": "execute_result"
    }
   ],
   "source": [
    "df2=df2[(df2['Assessed Value'] > (Q1AV - 1.5 * IQRAV)) & (df2['Assessed Value'] < (Q3AV + 1.5 * IQRAV))]\n",
    "df2.shape"
   ]
  },
  {
   "cell_type": "code",
   "execution_count": 37,
   "id": "8c3849a4-1c68-4018-9d7c-83f88649bcd6",
   "metadata": {
    "tags": []
   },
   "outputs": [
    {
     "name": "stdout",
     "output_type": "stream",
     "text": [
      "Outliers count for Sale Amount is :  35124\n"
     ]
    }
   ],
   "source": [
    "Q1SA = df2['Sale Amount'].quantile(0.25)\n",
    "Q2SA = df2['Sale Amount'].quantile(0.50)\n",
    "Q3SA = df2['Sale Amount'].quantile(0.75)\n",
    "IQRSA = Q3SA - Q1SA\n",
    "print('Outliers count for Sale Amount is : ', \n",
    "      ( (df2['Sale Amount'] < (Q1SA - 1.5 * IQRSA)).sum()) \n",
    "      + (df2['Sale Amount'] > (Q3SA + 1.5*IQRSA)).sum())"
   ]
  },
  {
   "cell_type": "code",
   "execution_count": 38,
   "id": "d1b11acc-e576-42be-9578-3cdb8f0b67c3",
   "metadata": {
    "tags": []
   },
   "outputs": [
    {
     "data": {
      "text/plain": [
       "(871459, 15)"
      ]
     },
     "execution_count": 38,
     "metadata": {},
     "output_type": "execute_result"
    }
   ],
   "source": [
    "df2=df2[(df2['Sale Amount'] > (Q1SA - 1.5 * IQRSA)) & (df2['Sale Amount'] < (Q3SA + 1.5 * IQRSA))]\n",
    "df2.shape"
   ]
  },
  {
   "cell_type": "code",
   "execution_count": 39,
   "id": "d68aeba0-18a7-4f08-addc-89168f9dcbec",
   "metadata": {
    "tags": []
   },
   "outputs": [
    {
     "name": "stdout",
     "output_type": "stream",
     "text": [
      "Outliers count for Sales Ratio is :  86291\n"
     ]
    }
   ],
   "source": [
    "Q1SR = df2['Sales Ratio'].quantile(0.25)\n",
    "Q2SR = df2['Sales Ratio'].quantile(0.50)\n",
    "Q3SR = df2['Sales Ratio'].quantile(0.75)\n",
    "IQRSR = Q3SR - Q1SR\n",
    "print('Outliers count for Sales Ratio is : ', \n",
    "      ( (df2['Sales Ratio'] < (Q1SR - 1.5 * IQRSR)).sum()) \n",
    "      + (df2['Sales Ratio'] > (Q3SR + 1.5*IQRSR)).sum())"
   ]
  },
  {
   "cell_type": "code",
   "execution_count": 40,
   "id": "96c76170-e5f4-41b7-b4e4-848b6fe7133e",
   "metadata": {
    "tags": []
   },
   "outputs": [
    {
     "data": {
      "text/plain": [
       "(785168, 15)"
      ]
     },
     "execution_count": 40,
     "metadata": {},
     "output_type": "execute_result"
    }
   ],
   "source": [
    "df2=df2[(df2['Sales Ratio'] > (Q1SR - 1.5 * IQRSR)) & (df2['Sales Ratio'] < (Q3SR + 1.5 * IQRSR))]\n",
    "df2.shape"
   ]
  },
  {
   "cell_type": "code",
   "execution_count": 41,
   "id": "7c59d323-878b-4003-b39f-6c761a1c80e7",
   "metadata": {
    "tags": []
   },
   "outputs": [
    {
     "data": {
      "image/png": "[encoded data removed]",
      "text/plain": [
       "<Figure size 2000x1000 with 3 Axes>"
      ]
     },
     "metadata": {},
     "output_type": "display_data"
    }
   ],
   "source": [
    "# Set style for all graphs\n",
    "sns.set_style(\"whitegrid\")\n",
    "\n",
    "# Create a grid of subplots\n",
    "fig, axs = plt.subplots(ncols=3, figsize=(20, 10))\n",
    "\n",
    "# Plot distributions of Assessed & sale values and sales ratio\n",
    "for ax, column in zip(axs, ['Assessed Value', 'Sale Amount', 'Sales Ratio']):\n",
    "\n",
    "    data = df2[column].dropna()\n",
    "    \n",
    "    # Create the boxplot\n",
    "    sns.boxplot(data=data, ax=ax)\n",
    "    \n",
    "    # Set the title\n",
    "    ax.set_title(f'Distribution of {column}')\n",
    "\n",
    "plt.tight_layout()\n",
    "plt.show()"
   ]
  },
  {
   "cell_type": "code",
   "execution_count": 45,
   "id": "3d070ba0-ed6a-4e3d-9250-659e3694c3b5",
   "metadata": {
    "tags": []
   },
   "outputs": [],
   "source": [
    "df2.to_csv('Real_estate_No_outliers.csv')"
   ]
  },
  {
   "cell_type": "markdown",
   "id": "73c7d0a2-5dd5-4d72-a6b3-b2426030909e",
   "metadata": {},
   "source": [
    " "
   ]
  },
  {
   "cell_type": "markdown",
   "id": "e7c1e8de-2ada-48b1-8c11-f8bea610d91e",
   "metadata": {},
   "source": [
    " "
   ]
  },
  {
   "cell_type": "markdown",
   "id": "a59489ac-5ba8-4537-890f-fac9ec525845",
   "metadata": {},
   "source": [
    "  "
   ]
  },
  {
   "cell_type": "markdown",
   "id": "dd7fd879-39a1-43e5-8b35-e79bfb315f41",
   "metadata": {},
   "source": [
    "   ## USA REAL ESTATE SALES 2001 - 2020 DATASET VISUALIZATION"
   ]
  },
  {
   "cell_type": "markdown",
   "id": "ce8a6992-3a98-4baa-a5f3-5820dfd7c4f7",
   "metadata": {},
   "source": [
    "There are not much information within the dataset to visualize"
   ]
  },
  {
   "cell_type": "code",
   "execution_count": 42,
   "id": "c9cbd50c-3c2a-4fad-acc8-328c6c151575",
   "metadata": {
    "tags": []
   },
   "outputs": [
    {
     "data": {
      "image/png": "[encoded data removed]",
      "text/plain": [
       "<Figure size 1500x600 with 1 Axes>"
      ]
     },
     "metadata": {},
     "output_type": "display_data"
    }
   ],
   "source": [
    "# Here i will visualize total property sold and total sale amount in MIL for each year.\n",
    "\n",
    "# Creating a new dataset with Years as index, and total property sold for every year.\n",
    "yearsActivity=df['List Year'].value_counts().reset_index().sort_values('index')\n",
    "\n",
    "# Renaming columns \n",
    "yearsActivity.rename(columns={'index':'Year', 'List Year':'Total_Property_Sold'}, inplace=True)\n",
    "\n",
    "# assigning Years as index\n",
    "yearsActivity.set_index('Year', inplace=True)\n",
    "\n",
    "# Creating a column for total sale amount for each year in MIL\n",
    "# I converted to MIL so that both columns can be seen in the chart\n",
    "yearsActivity['Total_Sale_Amount'] = df.groupby('List Year')['Sale Amount'].sum()/1000000\n",
    "\n",
    "# Plotting the results as a column chart.\n",
    "yearsActivity.plot(kind='bar', figsize=(15, 6))\n",
    "plt.title('Total Property Sold per Year + Total Value in MIL')\n",
    "plt.xlabel('Year')\n",
    "plt.ylabel('Property Sold Count + Toal Value in MIL')\n",
    "plt.show()"
   ]
  },
  {
   "cell_type": "code",
   "execution_count": 66,
   "id": "ec151e30-3f8a-4353-97e4-3db4a741d299",
   "metadata": {},
   "outputs": [
    {
     "data": {
      "image/png": "[encoded data removed]",
      "text/plain": [
       "<Figure size 1500x600 with 1 Axes>"
      ]
     },
     "metadata": {},
     "output_type": "display_data"
    }
   ],
   "source": [
    "# Chart 2 will be the mean of the sale amounts for each year.\n",
    "\n",
    "# Creating a new column for the yearly sale amounts mean.\n",
    "yearsActivity['Sale_Amount_Mean']=df.groupby('List Year')['Sale Amount'].mean()\n",
    "\n",
    "# Plotting the new column\n",
    "# Name the Y axes in the .plot command or it will plot all columns of yearsActivity.\n",
    "yearsActivity.plot(kind='bar', figsize=(15,6), y='Sale_Amount_Mean')\n",
    "plt.title('Yearly Mean of The Total Sale Amount')\n",
    "plt.ylabel('Mean Values')\n",
    "plt.show()"
   ]
  },
  {
   "cell_type": "code",
   "execution_count": null,
   "id": "23938cb8-f5a4-48df-a6ba-f4b588811429",
   "metadata": {},
   "outputs": [],
   "source": []
  }
 ],
 "metadata": {
  "kernelspec": {
   "display_name": "Python 3 (ipykernel)",
   "language": "python",
   "name": "python3"
  },
  "language_info": {
   "codemirror_mode": {
    "name": "ipython",
    "version": 3
   },
   "file_extension": ".py",
   "mimetype": "text/x-python",
   "name": "python",
   "nbconvert_exporter": "python",
   "pygments_lexer": "ipython3",
   "version": "3.11.5"
  }
 },
 "nbformat": 4,
 "nbformat_minor": 5
}
